{
 "cells": [
  {
   "cell_type": "code",
   "execution_count": null,
   "metadata": {
    "collapsed": true
   },
   "outputs": [],
   "source": [
    "#Dependencies\n",
    "\n",
    "from matplotlib.figure import Figure \n",
    "import matplotlib.pyplot as plt \n",
    "import matplotlib.dates as mdates \n",
    "import pandas as pd \n",
    "import numpy as np \n",
    "import datetime as dt \n",
    "import seaborn as sns \n",
    "np.random.seed(sum(map(ord, \"aesthetics\")))\n"
   ]
  },
  {
   "cell_type": "code",
   "execution_count": null,
   "metadata": {},
   "outputs": [],
   "source": [
    "# Store filepath in a variable \n",
    "weather_file = \"hawaii_measurements.csv\"\n",
    "# Read our Data file with the pandas library\n",
    "weather_df = pd.read_csv(weather_file,parse_dates=[\"date\"])\n",
    "weather_df.head()"
   ]
  },
  {
   "cell_type": "code",
   "execution_count": null,
   "metadata": {},
   "outputs": [],
   "source": [
    "print(len(weather_df.index))"
   ]
  },
  {
   "cell_type": "markdown",
   "metadata": {},
   "source": [
    "# Data cleansing notes on removed records:\n",
    "\n",
    "### Stations with 2010 - 2017 data\n",
    "    KANEOHE 838.1, HI US\n",
    "    KUALOA RANCH HEADQUARTERS 886.9, HI US\n",
    "    MANOA LYON ARBO 785.2, HI US\n",
    "    PEARL CITY, HI US\n",
    "    WAIHEE 837.5, HI US\n",
    "    WAIKIKI 717.2, HI US\n",
    "    WAIMANALO EXPERIMENTAL FARM, HI US\n",
    "\n",
    "### Stations with 2010 - 2015 data\n",
    "    HONOLULU OBSERVATORY 702.2, HI US\n",
    "    UPPER WAHIAWA 874.3, HI US\n",
    "\n",
    "### 8 out of 9 stations have blank prcp values for a total of 1447 records with blanks.\n",
    "    USC00511918\t  47 blank prcp\n",
    "    USC00513117\t  13 blank prcp\n",
    "    USC00514830\t  265 blank prcp\n",
    "    USC00516128\t 128 blank prcp\n",
    "    USC00517948\t 689 blank prcp\n",
    "    USC00518838\t169 blank prcp\n",
    "    USC00519397\t39 blank prcp\n",
    "    USC00519523\t97 blank prcp\n",
    "\n",
    "### The missing data is spread out over the years of data so removing them doesn't seem to be a large concern as opposed to if the missing data was concentrated in a station or year.\n",
    "\n",
    "### Measurement Records Information\n",
    "    19,550 total records before changes\n",
    "    1,447 records with blank precipitation (col = \"prcp\")\n",
    "    18,103 records with no known issues after removing 1,447 with blank prcp\n",
    "    Percentage of records removed is 0.07%\n",
    "    Percentage of records remaining is 93.0%\n"
   ]
  },
  {
   "cell_type": "code",
   "execution_count": null,
   "metadata": {},
   "outputs": [],
   "source": [
    "# drop the NaN values and note the details of the dropped data.\n",
    "weather_df= weather_df.dropna(axis=0)\n",
    "print(len(weather_df.index))\n",
    "weather_df.head()"
   ]
  },
  {
   "cell_type": "code",
   "execution_count": null,
   "metadata": {
    "collapsed": true
   },
   "outputs": [],
   "source": [
    "weather_df = weather_df.sort_values([\"station\",\"date\"], \\\n",
    "                                    ascending=[True, True]).reset_index(drop=True)"
   ]
  },
  {
   "cell_type": "code",
   "execution_count": null,
   "metadata": {},
   "outputs": [],
   "source": [
    "weather_df.head()"
   ]
  },
  {
   "cell_type": "code",
   "execution_count": null,
   "metadata": {
    "collapsed": true
   },
   "outputs": [],
   "source": [
    "# For data analysis: Export file as an XLSX or CSV, w/o index, w/ header\n",
    "# weather_df.to_excel(\"../output/clean_weather_source.xlsx\", index=False, header=True)\n",
    "weather_df.to_csv(\"clean_weather_source.csv\", index=False, header=True)"
   ]
  },
  {
   "cell_type": "code",
   "execution_count": null,
   "metadata": {},
   "outputs": [],
   "source": [
    "# Analyze the data\n",
    "# len(weather_df.index)\n",
    "#weather_df.dtypes\n",
    "weather_df.info()\n",
    "weather_df.describe()"
   ]
  },
  {
   "cell_type": "code",
   "execution_count": null,
   "metadata": {},
   "outputs": [],
   "source": [
    "# Store filepath in a variable\n",
    "station_file = \"hawaii_stations.csv\"\n",
    "# Read our Data file with the pandas library and parse the date as datetime\n",
    "station_df = pd.read_csv(station_file)\n",
    "station_df = station_df.sort_values(\"station\").reset_index(drop=True)\n",
    "station_df.head(10)"
   ]
  },
  {
   "cell_type": "code",
   "execution_count": null,
   "metadata": {
    "collapsed": true
   },
   "outputs": [],
   "source": [
    "# For data analysis: Export file as an XLSX or CSV, w/o index, w/ header\n",
    "# station_df.to_excel(\"../output/clean_station_source.xlsx\", index=False, header=True)\n",
    "station_df.to_csv(\"clean_station_source.csv\", index=False, header=True)"
   ]
  },
  {
   "cell_type": "code",
   "execution_count": null,
   "metadata": {},
   "outputs": [],
   "source": [
    "# Analyze the data\n",
    "# len(station_df.index)\n",
    "# station_df.dtypes\n",
    "station_df.info()\n",
    "station_df.describe()"
   ]
  },
  {
   "cell_type": "code",
   "execution_count": null,
   "metadata": {},
   "outputs": [],
   "source": [
    "# Merge the two dataframes on the \"station\" field\n",
    "#pd.options.display.max_rows = 100\n",
    "hiw_df = pd.merge(station_df, weather_df, on=(\"station\"), how=\"outer\", suffixes=(\"_x\", \"_y\"))\n",
    "hiw_df = hiw_df[[\"station\", \"name\", \"latitude\", \"longitude\", \"elevation\", \"date\",\"prcp\",\"tobs\"]].\\\n",
    "                 sort_values([\"station\",\"date\"], ascending=[True, True])\n",
    "hiw_df.head(5)"
   ]
  },
  {
   "cell_type": "code",
   "execution_count": null,
   "metadata": {
    "collapsed": true
   },
   "outputs": [],
   "source": [
    "# For data analysis: Export file as an XLSX or CSV, w/o index, w/ header\n",
    "# hiw_df.to_excel(\"../output/clean_hiw_merged.xlsx\", index=False, header=True)\n",
    "hiw_df.to_csv(\"clean_hiw_merged.csv\", index=False, header=True)"
   ]
  },
  {
   "cell_type": "code",
   "execution_count": null,
   "metadata": {},
   "outputs": [],
   "source": [
    "# Analyze combined data set\n",
    "#len(hiw_df.index)\n",
    "hiw_df.info()\n",
    "hiw_df.describe()\n",
    "#hiw_df.dtypes"
   ]
  },
  {
   "cell_type": "code",
   "execution_count": null,
   "metadata": {
    "collapsed": true
   },
   "outputs": [],
   "source": []
  }
 ],
 "metadata": {
  "kernelspec": {
   "display_name": "Python 3",
   "language": "python",
   "name": "python3"
  },
  "language_info": {
   "codemirror_mode": {
    "name": "ipython",
    "version": 3
   },
   "file_extension": ".py",
   "mimetype": "text/x-python",
   "name": "python",
   "nbconvert_exporter": "python",
   "pygments_lexer": "ipython3",
   "version": "3.6.1"
  }
 },
 "nbformat": 4,
 "nbformat_minor": 2
}
