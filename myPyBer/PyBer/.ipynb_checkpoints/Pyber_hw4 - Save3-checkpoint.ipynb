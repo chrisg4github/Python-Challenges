{
 "cells": [
  {
   "cell_type": "code",
   "execution_count": 1,
   "metadata": {
    "collapsed": true
   },
   "outputs": [],
   "source": [
    "# Dependencies\n",
    "from matplotlib.figure import Figure\n",
    "import matplotlib.pyplot as plt\n",
    "import matplotlib.dates as mdates\n",
    "import pandas as pd\n",
    "import numpy as np\n",
    "import datetime as dt\n",
    "import seaborn as sns\n",
    "np.random.seed(sum(map(ord, \"aesthetics\")))\n",
    "# https://en.wikipedia.org/wiki/Bubble_chart\n",
    "# https://plot.ly/matplotlib/bubble-charts/"
   ]
  },
  {
   "cell_type": "code",
   "execution_count": 2,
   "metadata": {
    "collapsed": true
   },
   "outputs": [],
   "source": [
    "# Store filepath in a variable\n",
    "city_file = \"../raw_data/city_data.csv\""
   ]
  },
  {
   "cell_type": "code",
   "execution_count": 3,
   "metadata": {},
   "outputs": [
    {
     "data": {
      "text/html": [
       "<div>\n",
       "<style>\n",
       "    .dataframe thead tr:only-child th {\n",
       "        text-align: right;\n",
       "    }\n",
       "\n",
       "    .dataframe thead th {\n",
       "        text-align: left;\n",
       "    }\n",
       "\n",
       "    .dataframe tbody tr th {\n",
       "        vertical-align: top;\n",
       "    }\n",
       "</style>\n",
       "<table border=\"1\" class=\"dataframe\">\n",
       "  <thead>\n",
       "    <tr style=\"text-align: right;\">\n",
       "      <th></th>\n",
       "      <th>city</th>\n",
       "      <th>driver_count</th>\n",
       "      <th>type</th>\n",
       "    </tr>\n",
       "  </thead>\n",
       "  <tbody>\n",
       "    <tr>\n",
       "      <th>0</th>\n",
       "      <td>Alvarezhaven</td>\n",
       "      <td>21</td>\n",
       "      <td>Urban</td>\n",
       "    </tr>\n",
       "    <tr>\n",
       "      <th>1</th>\n",
       "      <td>Alyssaberg</td>\n",
       "      <td>67</td>\n",
       "      <td>Urban</td>\n",
       "    </tr>\n",
       "    <tr>\n",
       "      <th>2</th>\n",
       "      <td>Anitamouth</td>\n",
       "      <td>16</td>\n",
       "      <td>Suburban</td>\n",
       "    </tr>\n",
       "    <tr>\n",
       "      <th>3</th>\n",
       "      <td>Antoniomouth</td>\n",
       "      <td>21</td>\n",
       "      <td>Urban</td>\n",
       "    </tr>\n",
       "    <tr>\n",
       "      <th>4</th>\n",
       "      <td>Aprilchester</td>\n",
       "      <td>49</td>\n",
       "      <td>Urban</td>\n",
       "    </tr>\n",
       "  </tbody>\n",
       "</table>\n",
       "</div>"
      ],
      "text/plain": [
       "           city  driver_count      type\n",
       "0  Alvarezhaven            21     Urban\n",
       "1    Alyssaberg            67     Urban\n",
       "2    Anitamouth            16  Suburban\n",
       "3  Antoniomouth            21     Urban\n",
       "4  Aprilchester            49     Urban"
      ]
     },
     "execution_count": 3,
     "metadata": {},
     "output_type": "execute_result"
    }
   ],
   "source": [
    "# Read our Data file with the pandas library\n",
    "\n",
    "# Note: city_data.csv had two records for Port James, both type \n",
    "# Suburban, and one driver_count = 3 and one = 15.  I deleted one \n",
    "# record, and made the driver count 18.  This fixes two issues, 1, \n",
    "# the record count for the combined data set is 2375 as should be, \n",
    "# and later dataframes created from city_df have the correct \n",
    "# record count of 125.\n",
    "city_df = pd.read_csv(city_file)\n",
    "city_df.sort_values(\"city\",inplace=True)\n",
    "city_df.head(5)"
   ]
  },
  {
   "cell_type": "code",
   "execution_count": 4,
   "metadata": {
    "collapsed": true
   },
   "outputs": [],
   "source": [
    "#len(city_df.index)"
   ]
  },
  {
   "cell_type": "code",
   "execution_count": 5,
   "metadata": {
    "collapsed": true
   },
   "outputs": [],
   "source": [
    "#city_df.info()\n",
    "#city_df.describe\n",
    "# For data analysis: Export file as an XLSX, w/o index, w/ header\n",
    "#city_df.to_excel(\"../output/city_source.xlsx\", index=False, header=True)"
   ]
  },
  {
   "cell_type": "code",
   "execution_count": 6,
   "metadata": {
    "collapsed": true
   },
   "outputs": [],
   "source": [
    "# Store filepath in a variable\n",
    "ride_file = \"../raw_data/ride_data.csv\""
   ]
  },
  {
   "cell_type": "code",
   "execution_count": 7,
   "metadata": {},
   "outputs": [
    {
     "data": {
      "text/html": [
       "<div>\n",
       "<style>\n",
       "    .dataframe thead tr:only-child th {\n",
       "        text-align: right;\n",
       "    }\n",
       "\n",
       "    .dataframe thead th {\n",
       "        text-align: left;\n",
       "    }\n",
       "\n",
       "    .dataframe tbody tr th {\n",
       "        vertical-align: top;\n",
       "    }\n",
       "</style>\n",
       "<table border=\"1\" class=\"dataframe\">\n",
       "  <thead>\n",
       "    <tr style=\"text-align: right;\">\n",
       "      <th></th>\n",
       "      <th>city</th>\n",
       "      <th>date</th>\n",
       "      <th>fare</th>\n",
       "      <th>ride_id</th>\n",
       "    </tr>\n",
       "  </thead>\n",
       "  <tbody>\n",
       "    <tr>\n",
       "      <th>125</th>\n",
       "      <td>Alvarezhaven</td>\n",
       "      <td>2016-08-01 00:39:48</td>\n",
       "      <td>6.42</td>\n",
       "      <td>8394540350728</td>\n",
       "    </tr>\n",
       "    <tr>\n",
       "      <th>1032</th>\n",
       "      <td>Alvarezhaven</td>\n",
       "      <td>2016-01-21 07:25:48</td>\n",
       "      <td>22.83</td>\n",
       "      <td>3565582370530</td>\n",
       "    </tr>\n",
       "    <tr>\n",
       "      <th>702</th>\n",
       "      <td>Alvarezhaven</td>\n",
       "      <td>2016-06-21 09:57:52</td>\n",
       "      <td>20.88</td>\n",
       "      <td>9456788060940</td>\n",
       "    </tr>\n",
       "    <tr>\n",
       "      <th>1580</th>\n",
       "      <td>Alvarezhaven</td>\n",
       "      <td>2016-05-16 15:33:14</td>\n",
       "      <td>6.45</td>\n",
       "      <td>8939751998750</td>\n",
       "    </tr>\n",
       "    <tr>\n",
       "      <th>674</th>\n",
       "      <td>Alvarezhaven</td>\n",
       "      <td>2016-06-25 22:46:06</td>\n",
       "      <td>24.16</td>\n",
       "      <td>9047320468692</td>\n",
       "    </tr>\n",
       "  </tbody>\n",
       "</table>\n",
       "</div>"
      ],
      "text/plain": [
       "              city                date   fare        ride_id\n",
       "125   Alvarezhaven 2016-08-01 00:39:48   6.42  8394540350728\n",
       "1032  Alvarezhaven 2016-01-21 07:25:48  22.83  3565582370530\n",
       "702   Alvarezhaven 2016-06-21 09:57:52  20.88  9456788060940\n",
       "1580  Alvarezhaven 2016-05-16 15:33:14   6.45  8939751998750\n",
       "674   Alvarezhaven 2016-06-25 22:46:06  24.16  9047320468692"
      ]
     },
     "execution_count": 7,
     "metadata": {},
     "output_type": "execute_result"
    }
   ],
   "source": [
    "# Read our Data file with the pandas library\n",
    "# Not every CSV requires an encoding, but be aware this can come up\n",
    "ride_df = pd.read_csv(ride_file, parse_dates=[\"date\"])\n",
    "ride_df.sort_values(\"city\",inplace=True)\n",
    "ride_df.head(5)"
   ]
  },
  {
   "cell_type": "code",
   "execution_count": 8,
   "metadata": {
    "collapsed": true
   },
   "outputs": [],
   "source": [
    "#len(ride_df.index)\n",
    "#ride_df.dtypes\n",
    "# For data analysis: Export file as an XLSX, w/o index, w/ header\n",
    "#ride_df.to_excel(\"../output/ride_source.xlsx\", index=False, header=True)"
   ]
  },
  {
   "cell_type": "code",
   "execution_count": 9,
   "metadata": {},
   "outputs": [
    {
     "data": {
      "text/html": [
       "<div>\n",
       "<style>\n",
       "    .dataframe thead tr:only-child th {\n",
       "        text-align: right;\n",
       "    }\n",
       "\n",
       "    .dataframe thead th {\n",
       "        text-align: left;\n",
       "    }\n",
       "\n",
       "    .dataframe tbody tr th {\n",
       "        vertical-align: top;\n",
       "    }\n",
       "</style>\n",
       "<table border=\"1\" class=\"dataframe\">\n",
       "  <thead>\n",
       "    <tr style=\"text-align: right;\">\n",
       "      <th></th>\n",
       "      <th>city</th>\n",
       "      <th>date</th>\n",
       "      <th>fare</th>\n",
       "      <th>ride_id</th>\n",
       "      <th>driver_count</th>\n",
       "      <th>type</th>\n",
       "    </tr>\n",
       "  </thead>\n",
       "  <tbody>\n",
       "    <tr>\n",
       "      <th>0</th>\n",
       "      <td>Alvarezhaven</td>\n",
       "      <td>2016-08-01 00:39:48</td>\n",
       "      <td>6.42</td>\n",
       "      <td>8394540350728</td>\n",
       "      <td>21</td>\n",
       "      <td>Urban</td>\n",
       "    </tr>\n",
       "    <tr>\n",
       "      <th>30</th>\n",
       "      <td>Alvarezhaven</td>\n",
       "      <td>2016-05-15 20:43:44</td>\n",
       "      <td>40.04</td>\n",
       "      <td>1806812593131</td>\n",
       "      <td>21</td>\n",
       "      <td>Urban</td>\n",
       "    </tr>\n",
       "    <tr>\n",
       "      <th>29</th>\n",
       "      <td>Alvarezhaven</td>\n",
       "      <td>2016-02-07 02:46:18</td>\n",
       "      <td>35.22</td>\n",
       "      <td>5405756761666</td>\n",
       "      <td>21</td>\n",
       "      <td>Urban</td>\n",
       "    </tr>\n",
       "    <tr>\n",
       "      <th>28</th>\n",
       "      <td>Alvarezhaven</td>\n",
       "      <td>2016-08-18 07:12:06</td>\n",
       "      <td>20.74</td>\n",
       "      <td>357421158941</td>\n",
       "      <td>21</td>\n",
       "      <td>Urban</td>\n",
       "    </tr>\n",
       "    <tr>\n",
       "      <th>27</th>\n",
       "      <td>Alvarezhaven</td>\n",
       "      <td>2016-09-23 21:51:59</td>\n",
       "      <td>17.67</td>\n",
       "      <td>3829336915201</td>\n",
       "      <td>21</td>\n",
       "      <td>Urban</td>\n",
       "    </tr>\n",
       "  </tbody>\n",
       "</table>\n",
       "</div>"
      ],
      "text/plain": [
       "            city                date   fare        ride_id  driver_count  \\\n",
       "0   Alvarezhaven 2016-08-01 00:39:48   6.42  8394540350728            21   \n",
       "30  Alvarezhaven 2016-05-15 20:43:44  40.04  1806812593131            21   \n",
       "29  Alvarezhaven 2016-02-07 02:46:18  35.22  5405756761666            21   \n",
       "28  Alvarezhaven 2016-08-18 07:12:06  20.74   357421158941            21   \n",
       "27  Alvarezhaven 2016-09-23 21:51:59  17.67  3829336915201            21   \n",
       "\n",
       "     type  \n",
       "0   Urban  \n",
       "30  Urban  \n",
       "29  Urban  \n",
       "28  Urban  \n",
       "27  Urban  "
      ]
     },
     "execution_count": 9,
     "metadata": {},
     "output_type": "execute_result"
    }
   ],
   "source": [
    "# Merge the two dataframes on the \"city\" field\n",
    "# re-order columns: city, date, fare, ride_id, driver_count, type and sort by \"city\"\n",
    "pd.options.display.max_rows = 100\n",
    "pyber_df = pd.merge(city_df, ride_df, on=(\"city\"), how=\"inner\", suffixes=(\"_x\", \"_y\"))\n",
    "pyber_df = pyber_df[[\"city\", \"date\", \"fare\", \"ride_id\", \"driver_count\", \"type\"]].sort_values(\"city\")\n",
    "pyber_df.head(5)"
   ]
  },
  {
   "cell_type": "code",
   "execution_count": 10,
   "metadata": {
    "collapsed": true
   },
   "outputs": [],
   "source": [
    "# Analyze combined data set\n",
    "#len(pyber_df.index)\n",
    "#pyber_df.info()\n",
    "#pyber_df.describe\n",
    "#pyber_df.dtypes\n",
    "# For data analysis: Export file as an XLSX, w/o index, w/ header\n",
    "pyber_df.to_excel(\"../output/pyber_source.xlsx\", index=False, header=True)"
   ]
  },
  {
   "cell_type": "code",
   "execution_count": 11,
   "metadata": {
    "collapsed": true
   },
   "outputs": [],
   "source": [
    "#\n",
    "# BEGIN DATA ORGANIZATION AND CHARTING\n",
    "#"
   ]
  },
  {
   "cell_type": "code",
   "execution_count": 12,
   "metadata": {
    "collapsed": true
   },
   "outputs": [],
   "source": [
    "# Source Data Analysis: \n",
    "# When loading the data, there are 2375 rows in ride_data.csv, why then did I have 2407 rows when \n",
    "# I merge the city and ride data?  There were two records for Port James in city_data.csv, one \n",
    "# with 3 drivers and the other with 15 drivers.  Since, I was going to use this data set in future \n",
    "# processes, I made the decision to manually remove one record and change the driver count to 18 \n",
    "# for the remaining record.  This change resulted reasonable records counts when mergiing, summing,\n",
    "# or manipulating the data sets.\n",
    "\n",
    "# Data Trend Analysis:\n",
    "# 1)It might seem obvious but there are more people using Pyber in an urban setting.  It makes \n",
    "# sense that people may either may not have a car or don't want to use it in the city if using a \n",
    "# ride service is convenient and cost effective.  On the other side of usage of the ride service, \n",
    "# people in rural and suburban environments live there to not be in an non-urban environment, and \n",
    "# since public transportation services are limited to non-existent, inconvenient, and expensive \n",
    "# outside of cities, these people would be mostly self-sufficient in the transportation environment.  \n",
    "# Drawing on my experience and knowledge, people in rural and suburban areas would use ride \n",
    "# services in special situations like going to the airport where you might not want to leave your \n",
    "# car, and since services that older people use are in urban areas they would tend to use a ride \n",
    "# service to get to those services.  And the difference between suburban and rural usage could be \n",
    "# related to how close one group is to a city and usage of urban service and thus the Pyber ride \n",
    "# service.\n",
    "\n",
    "# 2)Cost surprised me a little.  I would have thought that urban users would do more shorter trips \n",
    "# resulting in more rides and more at a lower cost.  Not sure what is going on with the data here, \n",
    "# but I would look further into why that is.  I don't use a Pyber type ride service, so I don't \n",
    "# know the costs, but the rural users have a large number of rides but not too high in cost.  Maybe \n",
    "# short trips to the doctor or store for an older person?  Don't know because the data set doesn't \n",
    "# support a conclusion.  One of the data points has the highest number of rides and is a very low \n",
    "# average fair.  I would expect to look at this and a few other outliers to understand what is going \n",
    "# on with the data, and to understand and gain trust in the data; however, for the most part the \n",
    "# data has few outliers and is scattered in a reasonable manner.\n",
    "\n",
    "# 3)As for the number of drivers, I was surprised by the size of some the gold bubbles because \n",
    "# these are related rural cities, and I would expect fewer drivers but that wasn't the case.  It \n",
    "# seems from looking at the color and size of the data that there are an adequete number of drivers \n",
    "# in a lot of cases for rural drivers.  Certainly, the suburban users had enough drivers to choose \n",
    "# from, and usage correlates or drives(supply and demand) the need for drivers which is also shown \n",
    "# by the urban bubbles.  I would expect more bubbles and bigger bubbles in a city and the bubble \n",
    "# chart supports this expectation.  From television, not experience, I have an idea that it is hard \n",
    "# for people to get a taxi, so if you look at the bubbles there is certainly more demand and supply \n",
    "# as the environment moves from rural to urban.  Is the real or perceived lack of taxis driving the \n",
    "# demand for a Pyber like service?  It might be good to look further into why people choose a Pyber \n",
    "# type service over a taxi.  In any case, the number of drivers looks adequete for all environments.\n"
   ]
  },
  {
   "cell_type": "code",
   "execution_count": 13,
   "metadata": {},
   "outputs": [
    {
     "data": {
      "text/html": [
       "<div>\n",
       "<style>\n",
       "    .dataframe thead tr:only-child th {\n",
       "        text-align: right;\n",
       "    }\n",
       "\n",
       "    .dataframe thead th {\n",
       "        text-align: left;\n",
       "    }\n",
       "\n",
       "    .dataframe tbody tr th {\n",
       "        vertical-align: top;\n",
       "    }\n",
       "</style>\n",
       "<table border=\"1\" class=\"dataframe\">\n",
       "  <thead>\n",
       "    <tr style=\"text-align: right;\">\n",
       "      <th></th>\n",
       "      <th>city</th>\n",
       "      <th>avg_fare</th>\n",
       "    </tr>\n",
       "  </thead>\n",
       "  <tbody>\n",
       "    <tr>\n",
       "      <th>0</th>\n",
       "      <td>Alvarezhaven</td>\n",
       "      <td>23.928710</td>\n",
       "    </tr>\n",
       "    <tr>\n",
       "      <th>1</th>\n",
       "      <td>Alyssaberg</td>\n",
       "      <td>20.609615</td>\n",
       "    </tr>\n",
       "    <tr>\n",
       "      <th>2</th>\n",
       "      <td>Anitamouth</td>\n",
       "      <td>37.315556</td>\n",
       "    </tr>\n",
       "    <tr>\n",
       "      <th>3</th>\n",
       "      <td>Antoniomouth</td>\n",
       "      <td>23.625000</td>\n",
       "    </tr>\n",
       "    <tr>\n",
       "      <th>4</th>\n",
       "      <td>Aprilchester</td>\n",
       "      <td>21.981579</td>\n",
       "    </tr>\n",
       "  </tbody>\n",
       "</table>\n",
       "</div>"
      ],
      "text/plain": [
       "           city   avg_fare\n",
       "0  Alvarezhaven  23.928710\n",
       "1    Alyssaberg  20.609615\n",
       "2    Anitamouth  37.315556\n",
       "3  Antoniomouth  23.625000\n",
       "4  Aprilchester  21.981579"
      ]
     },
     "execution_count": 13,
     "metadata": {},
     "output_type": "execute_result"
    }
   ],
   "source": [
    "# Bubble Plot of Pyber Data\n",
    "# Collect data for the bubble plot\n",
    "\n",
    "## Average Fare ($) Per City is the y-axis\n",
    "## group by [\"city\"] and get the fare.mean()\n",
    "average_fare = pyber_df.groupby([\"city\"], as_index=False)[\"fare\"].mean().rename(columns={\n",
    "    \"fare\": \"avg_fare\"})\n",
    "average_fare.head(5)\n",
    "#average_fare.info()\n",
    "#average_fare.decribe\n",
    "#average_fare.dtypes\n",
    "#print (average_fare)\n",
    "#print(len(average_fare))   "
   ]
  },
  {
   "cell_type": "code",
   "execution_count": 14,
   "metadata": {},
   "outputs": [
    {
     "data": {
      "text/html": [
       "<div>\n",
       "<style>\n",
       "    .dataframe thead tr:only-child th {\n",
       "        text-align: right;\n",
       "    }\n",
       "\n",
       "    .dataframe thead th {\n",
       "        text-align: left;\n",
       "    }\n",
       "\n",
       "    .dataframe tbody tr th {\n",
       "        vertical-align: top;\n",
       "    }\n",
       "</style>\n",
       "<table border=\"1\" class=\"dataframe\">\n",
       "  <thead>\n",
       "    <tr style=\"text-align: right;\">\n",
       "      <th></th>\n",
       "      <th>city</th>\n",
       "      <th>ride_count</th>\n",
       "    </tr>\n",
       "  </thead>\n",
       "  <tbody>\n",
       "    <tr>\n",
       "      <th>0</th>\n",
       "      <td>Alvarezhaven</td>\n",
       "      <td>31</td>\n",
       "    </tr>\n",
       "    <tr>\n",
       "      <th>1</th>\n",
       "      <td>Alyssaberg</td>\n",
       "      <td>26</td>\n",
       "    </tr>\n",
       "    <tr>\n",
       "      <th>2</th>\n",
       "      <td>Anitamouth</td>\n",
       "      <td>9</td>\n",
       "    </tr>\n",
       "    <tr>\n",
       "      <th>3</th>\n",
       "      <td>Antoniomouth</td>\n",
       "      <td>22</td>\n",
       "    </tr>\n",
       "    <tr>\n",
       "      <th>4</th>\n",
       "      <td>Aprilchester</td>\n",
       "      <td>19</td>\n",
       "    </tr>\n",
       "  </tbody>\n",
       "</table>\n",
       "</div>"
      ],
      "text/plain": [
       "           city  ride_count\n",
       "0  Alvarezhaven          31\n",
       "1    Alyssaberg          26\n",
       "2    Anitamouth           9\n",
       "3  Antoniomouth          22\n",
       "4  Aprilchester          19"
      ]
     },
     "execution_count": 14,
     "metadata": {},
     "output_type": "execute_result"
    }
   ],
   "source": [
    "## Total Number of Rides Per City is the x-axis\n",
    "## group by [\"city\"] and get the ride_id.count()\n",
    "total_rides = pyber_df.groupby([\"city\"], as_index=False)[\"ride_id\"].count().rename(columns={\n",
    "    \"ride_id\": \"ride_count\"})\n",
    "total_rides.head(5)\n",
    "#total_rides.info()\n",
    "#total_rides.describe\n",
    "#total_rides.dtypes\n",
    "#print (total_rides) \n",
    "#print(len(total_rides))   "
   ]
  },
  {
   "cell_type": "code",
   "execution_count": 15,
   "metadata": {},
   "outputs": [
    {
     "data": {
      "text/html": [
       "<div>\n",
       "<style>\n",
       "    .dataframe thead tr:only-child th {\n",
       "        text-align: right;\n",
       "    }\n",
       "\n",
       "    .dataframe thead th {\n",
       "        text-align: left;\n",
       "    }\n",
       "\n",
       "    .dataframe tbody tr th {\n",
       "        vertical-align: top;\n",
       "    }\n",
       "</style>\n",
       "<table border=\"1\" class=\"dataframe\">\n",
       "  <thead>\n",
       "    <tr style=\"text-align: right;\">\n",
       "      <th></th>\n",
       "      <th>city</th>\n",
       "      <th>driver_count</th>\n",
       "    </tr>\n",
       "  </thead>\n",
       "  <tbody>\n",
       "    <tr>\n",
       "      <th>0</th>\n",
       "      <td>Alvarezhaven</td>\n",
       "      <td>21</td>\n",
       "    </tr>\n",
       "    <tr>\n",
       "      <th>1</th>\n",
       "      <td>Alyssaberg</td>\n",
       "      <td>67</td>\n",
       "    </tr>\n",
       "    <tr>\n",
       "      <th>2</th>\n",
       "      <td>Anitamouth</td>\n",
       "      <td>16</td>\n",
       "    </tr>\n",
       "    <tr>\n",
       "      <th>3</th>\n",
       "      <td>Antoniomouth</td>\n",
       "      <td>21</td>\n",
       "    </tr>\n",
       "    <tr>\n",
       "      <th>4</th>\n",
       "      <td>Aprilchester</td>\n",
       "      <td>49</td>\n",
       "    </tr>\n",
       "  </tbody>\n",
       "</table>\n",
       "</div>"
      ],
      "text/plain": [
       "           city  driver_count\n",
       "0  Alvarezhaven            21\n",
       "1    Alyssaberg            67\n",
       "2    Anitamouth            16\n",
       "3  Antoniomouth            21\n",
       "4  Aprilchester            49"
      ]
     },
     "execution_count": 15,
     "metadata": {},
     "output_type": "execute_result"
    }
   ],
   "source": [
    "# Total Number of Drivers Per City is correlates to bubble size\n",
    "\n",
    "# Uses city_df\n",
    "dcounts_df = city_df[[\"city\",\"driver_count\"]]\n",
    "dcounts_df.head(5)\n",
    "#dcounts_df.info()\n",
    "#dcounts_df.dtypes\n",
    "#dcounts_df.describe\n",
    "#len(dcounts_df)"
   ]
  },
  {
   "cell_type": "code",
   "execution_count": 16,
   "metadata": {},
   "outputs": [
    {
     "data": {
      "text/html": [
       "<div>\n",
       "<style>\n",
       "    .dataframe thead tr:only-child th {\n",
       "        text-align: right;\n",
       "    }\n",
       "\n",
       "    .dataframe thead th {\n",
       "        text-align: left;\n",
       "    }\n",
       "\n",
       "    .dataframe tbody tr th {\n",
       "        vertical-align: top;\n",
       "    }\n",
       "</style>\n",
       "<table border=\"1\" class=\"dataframe\">\n",
       "  <thead>\n",
       "    <tr style=\"text-align: right;\">\n",
       "      <th></th>\n",
       "      <th>city</th>\n",
       "      <th>type</th>\n",
       "    </tr>\n",
       "  </thead>\n",
       "  <tbody>\n",
       "    <tr>\n",
       "      <th>0</th>\n",
       "      <td>Alvarezhaven</td>\n",
       "      <td>Urban</td>\n",
       "    </tr>\n",
       "    <tr>\n",
       "      <th>1</th>\n",
       "      <td>Alyssaberg</td>\n",
       "      <td>Urban</td>\n",
       "    </tr>\n",
       "    <tr>\n",
       "      <th>2</th>\n",
       "      <td>Anitamouth</td>\n",
       "      <td>Suburban</td>\n",
       "    </tr>\n",
       "    <tr>\n",
       "      <th>3</th>\n",
       "      <td>Antoniomouth</td>\n",
       "      <td>Urban</td>\n",
       "    </tr>\n",
       "    <tr>\n",
       "      <th>4</th>\n",
       "      <td>Aprilchester</td>\n",
       "      <td>Urban</td>\n",
       "    </tr>\n",
       "  </tbody>\n",
       "</table>\n",
       "</div>"
      ],
      "text/plain": [
       "           city      type\n",
       "0  Alvarezhaven     Urban\n",
       "1    Alyssaberg     Urban\n",
       "2    Anitamouth  Suburban\n",
       "3  Antoniomouth     Urban\n",
       "4  Aprilchester     Urban"
      ]
     },
     "execution_count": 16,
     "metadata": {},
     "output_type": "execute_result"
    }
   ],
   "source": [
    "# City Type (Urban, Suburban, Rural) is the color legend upper right\n",
    "\n",
    "# Uses city_df, has 125 entries\n",
    "city_type_df = city_df[[\"city\",\"type\"]] #.reset_index(drop=True)\n",
    "city_type_df.head(5)\n",
    "#city_type_df.info()\n",
    "#city_type_df.describe\n",
    "#city_type_df.dtypes\n",
    "#len(city_type_df)"
   ]
  },
  {
   "cell_type": "code",
   "execution_count": 17,
   "metadata": {},
   "outputs": [
    {
     "name": "stdout",
     "output_type": "stream",
     "text": [
      "['Rural' 'Suburban' 'Urban']\n"
     ]
    }
   ],
   "source": [
    "# City Type (Urban, Suburban, Rural) for color legend\n",
    "citytype = pyber_df[\"type\"].unique()\n",
    "citytype.sort()\n",
    "print(citytype)"
   ]
  },
  {
   "cell_type": "code",
   "execution_count": 18,
   "metadata": {},
   "outputs": [
    {
     "ename": "NameError",
     "evalue": "name 'dcnt' is not defined",
     "output_type": "error",
     "traceback": [
      "\u001b[1;31m---------------------------------------------------------------------------\u001b[0m",
      "\u001b[1;31mNameError\u001b[0m                                 Traceback (most recent call last)",
      "\u001b[1;32m<ipython-input-18-7811932e681f>\u001b[0m in \u001b[0;36m<module>\u001b[1;34m()\u001b[0m\n\u001b[0;32m     44\u001b[0m \u001b[1;31m# #--------------------------------------------------------------------------\u001b[0m\u001b[1;33m\u001b[0m\u001b[1;33m\u001b[0m\u001b[0m\n\u001b[0;32m     45\u001b[0m \u001b[1;33m\u001b[0m\u001b[0m\n\u001b[1;32m---> 46\u001b[1;33m \u001b[0mb_df\u001b[0m \u001b[1;33m=\u001b[0m \u001b[0mpd\u001b[0m\u001b[1;33m.\u001b[0m\u001b[0mDataFrame\u001b[0m\u001b[1;33m(\u001b[0m\u001b[0mdict\u001b[0m\u001b[1;33m(\u001b[0m\u001b[0mx\u001b[0m\u001b[1;33m=\u001b[0m\u001b[0mx_fare\u001b[0m\u001b[1;33m,\u001b[0m \u001b[0my\u001b[0m\u001b[1;33m=\u001b[0m\u001b[0my_ride\u001b[0m\u001b[1;33m,\u001b[0m \u001b[0mcolor\u001b[0m\u001b[1;33m=\u001b[0m\u001b[0mctype\u001b[0m\u001b[1;33m,\u001b[0m \u001b[0msize\u001b[0m\u001b[1;33m=\u001b[0m\u001b[0mdcnt\u001b[0m\u001b[1;33m)\u001b[0m\u001b[1;33m)\u001b[0m\u001b[1;33m\u001b[0m\u001b[0m\n\u001b[0m\u001b[0;32m     47\u001b[0m \u001b[1;31m#b_df\u001b[0m\u001b[1;33m\u001b[0m\u001b[1;33m\u001b[0m\u001b[0m\n\u001b[0;32m     48\u001b[0m sns.lmplot(\"x\", \"y\", data=b_df, hue=\"color\", fit_reg=False, legend_out=False,\n",
      "\u001b[1;31mNameError\u001b[0m: name 'dcnt' is not defined"
     ]
    }
   ],
   "source": [
    "# # from url: https://plot.ly/matplotlib/bubble-charts/\n",
    "# # http://matplotlib.org/api/markers_api.html?highlight=marker\n",
    "# #\n",
    "# # Bubble Chart Relationships:\n",
    "# # x axis is total rides, y axis is average fares \n",
    "# # colors are related to type (i.e. \"Rural\" = \"gold\")\n",
    "# # driver count is related to bubble size = scatter_kws={\"s\": markersize_df}\n",
    "# # Seaborn.implot was used to model the bubble chart.\n",
    "# # http://seaborn.pydata.org/generated/seaborn.lmplot.html\n",
    "# #--------------------------------------------------------------------------\n",
    "# #\n",
    "# # https://plot.ly/python/getting-started/\n",
    "# # import plotly.plotly as py  # not installed\n",
    "\n",
    "import matplotlib.pyplot as plt\n",
    "import matplotlib as mpl\n",
    "import numpy as np\n",
    "import seaborn as sns\n",
    "import pandas as pd\n",
    "# #--------------------------------------------------------------------------\n",
    "# all lists should have 125 elements\n",
    "x_fare = average_fare[\"avg_fare\"]\n",
    "y_ride = total_rides[\"ride_count\"]\n",
    "#print(\"x_fare is \", x_fare)\n",
    "#print(\"y_ride is \", y_ride)\n",
    "\n",
    "# Set the default color palette\n",
    "mycolors = [\"skyblue\", \"coral\", \"gold\"]\n",
    "sns.set_palette(mycolors)\n",
    "#sns.palplot(sns.color_palette())\n",
    "\n",
    "# color is related to \"city type\" \n",
    "colors = {\"Rural\":\"gold\", \"Suburban\":\"coral\", \"Urban\":\"skyblue\"}\n",
    "#print(\"dataframe colors is \", colors)\n",
    "color_keys = colors.keys()\n",
    "#print(\"dictionary color_keys)\n",
    "ctype = city_type_df[\"type\"].apply(lambda x: colors[x])\n",
    "#ctype\n",
    "\n",
    "# bubble size modification of dcount_df\n",
    "markersize_df = 10000* dcounts_df[\"driver_count\"] / sum(dcounts_df[\"driver_count\"])\n",
    "#markersize_df\n",
    "\n",
    "# #--------------------------------------------------------------------------\n",
    "\n",
    "b_df = pd.DataFrame(dict(x=x_fare, y=y_ride, color=ctype))\n",
    "#b_df\n",
    "sns.lmplot(\"x\", \"y\", data=b_df, hue=\"color\", fit_reg=False, legend_out=False,\n",
    "           scatter_kws={\"s\": markersize_df})\n",
    "sns.set_style(\"darkgrid\")\n",
    "sns.plt.title(\"Pyber Ride Sharing Data (2016)\", weight='bold').set_fontsize('12')\n",
    "sns.plt.xlabel(\"Total Number of Rides (Per City)\", weight='bold').set_fontsize('12')\n",
    "sns.plt.ylabel(\"Average Fare ($)\", weight='bold').set_fontsize('12')\n",
    "\n",
    "#sns.plt.legend([\"City Type\"])\n",
    "plt.savefig(\"pyber_bubble_chart.png\")\n",
    "plt.show()"
   ]
  },
  {
   "cell_type": "code",
   "execution_count": null,
   "metadata": {
    "collapsed": true
   },
   "outputs": [],
   "source": [
    "#average_fare.shape, total_rides.shape"
   ]
  },
  {
   "cell_type": "code",
   "execution_count": null,
   "metadata": {},
   "outputs": [],
   "source": [
    "# example bubble chart for help\n",
    "import matplotlib.pyplot as plt\n",
    "import numpy as np\n",
    "import seaborn as sns\n",
    "np.random.seed(sum(map(ord, \"aesthetics\")))\n",
    "## https://plot.ly/python/getting-started/\n",
    "#import plotly.plotly as py  # not installed\n",
    "\n",
    "n = 50\n",
    "x, y, z, s, ew = np.random.rand(5, n)\n",
    "\n",
    "c, ec = np.random.rand(2, n, 4)\n",
    "\n",
    "area_scale, width_scale = 500, 5\n",
    "\n",
    "fig, ax = plt.subplots()\n",
    "\n",
    "sc = ax.scatter(x, y, s=np.square(s)*area_scale, c=c, edgecolor=ec, \n",
    "                linewidth=ew*width_scale)\n",
    "#ax.grid()\n",
    "sns.set_style(\"darkgrid\")\n",
    "\n",
    "plt.savefig(\"bubble_scatter.png\")\n",
    "plt.show()\n"
   ]
  },
  {
   "cell_type": "code",
   "execution_count": null,
   "metadata": {},
   "outputs": [],
   "source": [
    "# City Type (Urban, Suburban, Rural) is the color legend upper right\n",
    "# groupby or unique list of type called \"city type\"\n",
    "citytype = pyber_df[\"type\"].unique()\n",
    "citytype.sort()\n",
    "print(citytype)"
   ]
  },
  {
   "cell_type": "code",
   "execution_count": null,
   "metadata": {
    "collapsed": true
   },
   "outputs": [],
   "source": [
    "# Create data for pie chart % of Total Fares by City-Type.\n",
    "\n",
    "total_fares = pyber_df.groupby([\"type\"], as_index=False)[\"fare\"].sum()\n",
    "#print(total_fares)\n",
    "#total_fares.info()\n",
    "#total_fares.columns\n",
    "\n",
    "# 2375 total rides\n",
    "sum_fares = total_fares[\"fare\"].sum()\n",
    "#print(sum_fares)\n",
    "#sum_fares.info()\n",
    "#sum_fares.columns\n",
    "\n",
    "# append percentages into a list\n",
    "fares_pct = []\n",
    "for i in range(0, len(total_fares)):\n",
    "    #print( round(((total_fares.iloc[i].fare/sum_fares)* 100),2))\n",
    "    fares_pct.append(round(((total_fares.iloc[i].fare/sum_fares)* 100),2))\n",
    "#print(rides_pct)"
   ]
  },
  {
   "cell_type": "code",
   "execution_count": null,
   "metadata": {},
   "outputs": [],
   "source": [
    "# hw4_pie_chart1.py\n",
    "#\n",
    "\n",
    "# Dependencies\n",
    "import matplotlib.pyplot as plt\n",
    "import numpy as np\n",
    " \n",
    "# https://matplotlib.org/2.0.0b4/examples/color/named_colors.html\n",
    "\n",
    "fig = plt.figure()\n",
    "ax = fig.add_subplot(111)\n",
    "\n",
    "types = citytype\n",
    "f_pct = fares_pct\n",
    "\n",
    "colors = [\"yellowgreen\", \"lightcoral\", \"lightskyblue\"]\n",
    "explode = (0, 0, 0.08)\n",
    "\n",
    "x_axis = np.arange(0, len(types))\n",
    "\n",
    "ax.set_title(\"Total Fares by City-Type\", weight='bold')\n",
    "ax.pie(f_pct, explode=explode, labels=types, colors=colors,\n",
    "       autopct=\"%1.1f%%\", textprops={'weight': 'bold'}, \n",
    "       shadow=True, startangle=120)\n",
    "ax.axis(\"equal\")\n",
    "\n",
    "plt.tight_layout()\n",
    "plt.savefig(\"fares_city-type%_pie_chart.png\")\n",
    "plt.show()"
   ]
  },
  {
   "cell_type": "code",
   "execution_count": null,
   "metadata": {
    "collapsed": true
   },
   "outputs": [],
   "source": [
    "# Analysis of total Fares by City-Type"
   ]
  },
  {
   "cell_type": "code",
   "execution_count": null,
   "metadata": {
    "collapsed": true
   },
   "outputs": [],
   "source": [
    "# Create data for pie chart % of Total Rides by City-Type.\n",
    "\n",
    "total_rides = pyber_df.groupby([\"type\"], as_index=False)[\"ride_id\"].count()\n",
    "#print (total_rides)\n",
    "#total_rides.info()\n",
    "#total_rides.columns\n",
    "\n",
    "# 2407 total rides\n",
    "sum_rides = total_rides[\"ride_id\"].sum()\n",
    "#sum_rides\n",
    "#sum_rides.info()\n",
    "#sum_rides.columns\n",
    "\n",
    "# append percentages into a list\n",
    "rides_pct = []\n",
    "for i in range(0, len(total_rides)):\n",
    "    #print( round(((total_rides.iloc[i].ride_id/sum_rides)* 100),2))\n",
    "    rides_pct.append(round(((total_rides.iloc[i].ride_id/sum_rides)* 100),2))\n",
    "#print(rides_pct)"
   ]
  },
  {
   "cell_type": "code",
   "execution_count": null,
   "metadata": {},
   "outputs": [],
   "source": [
    "# hw4_pie_chart2.py\n",
    "#\n",
    "\n",
    "# Dependencies\n",
    "import matplotlib.pyplot as plt\n",
    "import numpy as np\n",
    " \n",
    "# https://matplotlib.org/2.0.0b4/examples/color/named_colors.html\n",
    "\n",
    "fig = plt.figure()\n",
    "ax = fig.add_subplot(111)\n",
    "\n",
    "types = citytype\n",
    "r_pct = rides_pct\n",
    "\n",
    "colors = [\"yellowgreen\", \"lightcoral\", \"lightskyblue\"]\n",
    "explode = (0, 0, 0.08)\n",
    "\n",
    "x_axis = np.arange(0, len(types))\n",
    "\n",
    "ax.set_title(\"Total Rides by City-Type\", weight='bold')\n",
    "ax.pie(r_pct, explode=explode, labels=types, colors=colors,\n",
    "       autopct=\"%1.1f%%\", textprops={'weight': 'bold'}, \n",
    "       shadow=True, startangle=120)\n",
    "ax.axis(\"equal\")\n",
    "\n",
    "plt.tight_layout()\n",
    "plt.savefig(\"rides_city-type%_pie_chart.png\")\n",
    "plt.show()"
   ]
  },
  {
   "cell_type": "code",
   "execution_count": null,
   "metadata": {
    "collapsed": true
   },
   "outputs": [],
   "source": [
    "# Analysis of total Rides by City-Type"
   ]
  },
  {
   "cell_type": "code",
   "execution_count": null,
   "metadata": {
    "collapsed": true
   },
   "outputs": [],
   "source": [
    "# Create datat for pie chart % of Total Drivers by City, Type.\n",
    "\n",
    "# Create new dataframe with only 3 columns--note the double brackets\n",
    "summary_df = pyber_df[[\"city\", \"type\", \"driver_count\"]]\n",
    "#summary_df.head()\n",
    "\n",
    "# Remove the duplicates from the dataframe to sum driver_count\n",
    "unique_rows = summary_df.drop_duplicates()\n",
    "#unique_rows\n",
    "\n",
    "total_drivers = unique_rows.groupby([\"type\"], as_index=False)[\"driver_count\"].sum()\n",
    "#print(total_drivers)\n",
    "#total_drivers.describe()\n",
    "#total_drivers.columns\n",
    "\n",
    "# Total of Drivers = 3349\n",
    "sum_drivers = total_drivers[\"driver_count\"].sum()\n",
    "#print(sum_drivers)\n",
    "\n",
    "# append percentages into a list\n",
    "driver_pct = []\n",
    "for i in range(0, len(total_drivers)):\n",
    "    #print( round(((total_drivers.iloc[i].driver_count/sum_drivers)* 100),2))\n",
    "    driver_pct.append(round(((total_drivers.iloc[i].driver_count/sum_drivers)* 100),2))\n",
    "#print(driver_pct)\n",
    "\n",
    "# Validation check \"Rural\" adds up to the sum above\n",
    "#unique_rows.loc[unique_rows[\"type\"]== \"Rural\"]"
   ]
  },
  {
   "cell_type": "code",
   "execution_count": null,
   "metadata": {},
   "outputs": [],
   "source": [
    "# hw4_pie_chart3.py\n",
    "#\n",
    "\n",
    "# Dependencies\n",
    "import matplotlib.pyplot as plt\n",
    "import numpy as np\n",
    " \n",
    "# https://matplotlib.org/2.0.0b4/examples/color/named_colors.html\n",
    "\n",
    "fig = plt.figure()\n",
    "ax = fig.add_subplot(111)\n",
    "\n",
    "types = citytype\n",
    "d_pct = driver_pct\n",
    "\n",
    "colors = [\"yellowgreen\", \"lightcoral\", \"lightskyblue\"]\n",
    "explode = (0, 0, 0.08)\n",
    "\n",
    "x_axis = np.arange(0, len(types))\n",
    "\n",
    "ax.set_title(\"Total Drivers by City-Type\", weight='bold')\n",
    "ax.pie(d_pct, explode=explode, labels=types, colors=colors,\n",
    "       autopct=\"%1.1f%%\", textprops={'weight': 'bold'}, \n",
    "       shadow=True, startangle=120)\n",
    "ax.axis(\"equal\")\n",
    "\n",
    "plt.tight_layout()\n",
    "plt.savefig(\"drivers_city-type%_pie_chart.png\")\n",
    "plt.show()"
   ]
  },
  {
   "cell_type": "code",
   "execution_count": null,
   "metadata": {
    "collapsed": true
   },
   "outputs": [],
   "source": [
    "# Analysis of total Drivers by City-Type"
   ]
  },
  {
   "cell_type": "code",
   "execution_count": null,
   "metadata": {
    "collapsed": true
   },
   "outputs": [],
   "source": [
    "# Create a README.md export of my notebook."
   ]
  }
 ],
 "metadata": {
  "kernelspec": {
   "display_name": "Python 3",
   "language": "python",
   "name": "python3"
  },
  "language_info": {
   "codemirror_mode": {
    "name": "ipython",
    "version": 3
   },
   "file_extension": ".py",
   "mimetype": "text/x-python",
   "name": "python",
   "nbconvert_exporter": "python",
   "pygments_lexer": "ipython3",
   "version": "3.6.1"
  }
 },
 "nbformat": 4,
 "nbformat_minor": 2
}
