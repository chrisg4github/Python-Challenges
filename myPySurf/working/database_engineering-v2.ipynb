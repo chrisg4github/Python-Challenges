{
 "cells": [
  {
   "cell_type": "markdown",
   "metadata": {},
   "source": [
    "# Data cleansing notes on removed records:\n",
    "\n",
    "## See data_engineering.ipynb for more details.\n",
    "\n",
    "### Measurement Records Information\n",
    "    19,550 total records before changes\n",
    "    1,447 records with blank precipitation (col = \"prcp\")\n",
    "    18,103 records with no known issues after removing 1,447 with blank prcp\n",
    "    Percentage of records removed is 0.07%\n",
    "    Percentage of records remaining is 93.0%\n"
   ]
  },
  {
   "cell_type": "code",
   "execution_count": 86,
   "metadata": {
    "collapsed": true,
    "nbgrader": {
     "grade": false,
     "grade_id": "cell-e60bc59d72480e58",
     "locked": true,
     "schema_version": 1,
     "solution": false
    }
   },
   "outputs": [],
   "source": [
    "import pandas as pd\n",
    "import numpy as np\n",
    "import os"
   ]
  },
  {
   "cell_type": "code",
   "execution_count": 87,
   "metadata": {
    "collapsed": true,
    "nbgrader": {
     "grade": false,
     "grade_id": "cell-03f5c207a7864008",
     "locked": true,
     "schema_version": 1,
     "solution": false
    }
   },
   "outputs": [],
   "source": [
    "# Python SQL toolkit and Object Relational Mapper\n",
    "import sqlalchemy\n",
    "from sqlalchemy import create_engine, MetaData\n",
    "from sqlalchemy.ext.declarative import declarative_base\n",
    "from sqlalchemy import Column, Integer, String, Numeric, Text, Float\n",
    "from sqlalchemy import func"
   ]
  },
  {
   "cell_type": "code",
   "execution_count": 88,
   "metadata": {
    "collapsed": true,
    "nbgrader": {
     "grade": false,
     "grade_id": "cell-98f2e4153eb825b9",
     "locked": false,
     "schema_version": 1,
     "solution": true
    }
   },
   "outputs": [],
   "source": [
    "# Create an engine to a database file called `hawaii.sqlite`\n",
    "engine = create_engine(\"sqlite:///hawaii.sqlite\")\n",
    "# Create a connection to the engine called `conn`\n",
    "conn = engine.connect()"
   ]
  },
  {
   "cell_type": "code",
   "execution_count": 89,
   "metadata": {
    "collapsed": true
   },
   "outputs": [],
   "source": [
    "# Use `declarative_base` from SQLAlchemy to model the tables as an ORM class\n",
    "Base = declarative_base()"
   ]
  },
  {
   "cell_type": "code",
   "execution_count": 90,
   "metadata": {
    "collapsed": true,
    "nbgrader": {
     "grade": false,
     "grade_id": "cell-d0a28808066c0c1b",
     "locked": false,
     "schema_version": 1,
     "solution": true
    }
   },
   "outputs": [],
   "source": [
    "class weather(Base):\n",
    "    __tablename__ = 'weather'\n",
    "\n",
    "    id = Column(Integer, primary_key=True)\n",
    "    station = Column(Text)\n",
    "    date = Column(Text)\n",
    "    prcp = Column(Float)\n",
    "    tobs = Column(Float)\n",
    "    \n",
    "def __repr__(self):\n",
    "    return \"<Weather(%r, %r, %r, %r, %r)>\" % (self.id, self.station, self.date, \n",
    "                                              self.prcp, self.tobs)"
   ]
  },
  {
   "cell_type": "code",
   "execution_count": 91,
   "metadata": {
    "collapsed": true
   },
   "outputs": [],
   "source": [
    "class station(Base):\n",
    "    __tablename__ = 'station'\n",
    "\n",
    "    id = Column(Integer, primary_key=True)\n",
    "    station   = Column(Text)\n",
    "    name      = Column(Text)\n",
    "    latitude  = Column(Float)\n",
    "    longitude = Column(Float)\n",
    "    elevation = Column(Float)\n",
    "    \n",
    "def __repr__(self):\n",
    "    return \"<Station(%r, %r, %r, %r, %r, %r)>\" % (self.id, self.station, self.name, \n",
    "                                                  self.latitude, self.longitude,\n",
    "                                                  self.elevation)"
   ]
  },
  {
   "cell_type": "code",
   "execution_count": 92,
   "metadata": {},
   "outputs": [
    {
     "data": {
      "text/plain": [
       "Table('weather', MetaData(bind=None), Column('id', Integer(), table=<weather>, primary_key=True, nullable=False), Column('station', Text(), table=<weather>), Column('date', Text(), table=<weather>), Column('prcp', Float(), table=<weather>), Column('tobs', Float(), table=<weather>), schema=None)"
      ]
     },
     "execution_count": 92,
     "metadata": {},
     "output_type": "execute_result"
    }
   ],
   "source": [
    "# Display the schema of the table we just created\n",
    "weather.__table__"
   ]
  },
  {
   "cell_type": "code",
   "execution_count": 93,
   "metadata": {},
   "outputs": [
    {
     "data": {
      "text/plain": [
       "Table('station', MetaData(bind=None), Column('id', Integer(), table=<station>, primary_key=True, nullable=False), Column('station', Text(), table=<station>), Column('name', Text(), table=<station>), Column('latitude', Float(), table=<station>), Column('longitude', Float(), table=<station>), Column('elevation', Float(), table=<station>), schema=None)"
      ]
     },
     "execution_count": 93,
     "metadata": {},
     "output_type": "execute_result"
    }
   ],
   "source": [
    "# Display the schema of the table we just created\n",
    "station.__table__"
   ]
  },
  {
   "cell_type": "code",
   "execution_count": 94,
   "metadata": {
    "collapsed": true
   },
   "outputs": [],
   "source": [
    "# Use `create_all` to create the tables\n",
    "Base.metadata.create_all(engine)"
   ]
  },
  {
   "cell_type": "code",
   "execution_count": 95,
   "metadata": {
    "collapsed": true,
    "nbgrader": {
     "grade": false,
     "grade_id": "cell-7a708f12942ebf82",
     "locked": false,
     "schema_version": 1,
     "solution": true
    }
   },
   "outputs": [],
   "source": [
    "# Load the cleaned csv file into a pandas dataframe\n",
    "df_w_data_to_insert = pd.read_csv(\"clean_weather_source.csv\")"
   ]
  },
  {
   "cell_type": "code",
   "execution_count": 96,
   "metadata": {},
   "outputs": [
    {
     "data": {
      "text/plain": [
       "{'date': '2010-01-01', 'prcp': 0.05, 'station': 'USC00511918', 'tobs': 66}"
      ]
     },
     "execution_count": 96,
     "metadata": {},
     "output_type": "execute_result"
    }
   ],
   "source": [
    "# Use Orient='records' to create a list of data to write\n",
    "# http://pandas-docs.github.io/pandas-docs-travis/io.html#orient-options\n",
    "w_data = df_w_data_to_insert.to_dict(orient='records')\n",
    "w_data[0]"
   ]
  },
  {
   "cell_type": "code",
   "execution_count": 97,
   "metadata": {
    "collapsed": true
   },
   "outputs": [],
   "source": [
    "# Load the cleaned csv file into a pandas dataframe\n",
    "df_s_data_to_insert = pd.read_csv(\"clean_station_source.csv\")"
   ]
  },
  {
   "cell_type": "code",
   "execution_count": 98,
   "metadata": {},
   "outputs": [
    {
     "data": {
      "text/plain": [
       "{'elevation': 0.9,\n",
       " 'latitude': 21.3152,\n",
       " 'longitude': -157.9992,\n",
       " 'name': 'HONOLULU OBSERVATORY 702.2, HI US',\n",
       " 'station': 'USC00511918'}"
      ]
     },
     "execution_count": 98,
     "metadata": {},
     "output_type": "execute_result"
    }
   ],
   "source": [
    "# Use Orient='records' to create a list of data to write\n",
    "# http://pandas-docs.github.io/pandas-docs-travis/io.html#orient-options\n",
    "s_data = df_s_data_to_insert.to_dict(orient='records')\n",
    "s_data[0]"
   ]
  },
  {
   "cell_type": "code",
   "execution_count": 99,
   "metadata": {
    "collapsed": true
   },
   "outputs": [],
   "source": [
    "# Use MetaData from SQLAlchemy to reflect the tables\n",
    "metadata = MetaData(bind=engine)\n",
    "metadata.reflect()"
   ]
  },
  {
   "cell_type": "code",
   "execution_count": 100,
   "metadata": {
    "collapsed": true
   },
   "outputs": [],
   "source": [
    "# Save the reference to the `weather` table as a variable called `w_table`\n",
    "w_table = sqlalchemy.Table('weather', metadata, autoload=True)"
   ]
  },
  {
   "cell_type": "code",
   "execution_count": 101,
   "metadata": {
    "collapsed": true
   },
   "outputs": [],
   "source": [
    "# Save the reference to the `station` table as a variable called `s_table`\n",
    "s_table = sqlalchemy.Table('station', metadata, autoload=True)"
   ]
  },
  {
   "cell_type": "code",
   "execution_count": 102,
   "metadata": {
    "nbgrader": {
     "grade": false,
     "grade_id": "cell-aa692b86da935657",
     "locked": false,
     "schema_version": 1,
     "solution": true
    }
   },
   "outputs": [
    {
     "data": {
      "text/plain": [
       "<sqlalchemy.engine.result.ResultProxy at 0xbff35f8>"
      ]
     },
     "execution_count": 102,
     "metadata": {},
     "output_type": "execute_result"
    }
   ],
   "source": [
    "# Use _table.insert() to insert the data into the table\n",
    "conn.execute(w_table.insert(), w_data)"
   ]
  },
  {
   "cell_type": "code",
   "execution_count": 103,
   "metadata": {},
   "outputs": [
    {
     "data": {
      "text/plain": [
       "[(1, 'USC00511918', '2010-01-01', 0.05, 66.0),\n",
       " (2, 'USC00511918', '2010-01-02', 0.0, 70.0),\n",
       " (3, 'USC00511918', '2010-01-03', 0.0, 75.0),\n",
       " (4, 'USC00511918', '2010-01-04', 0.0, 75.0),\n",
       " (5, 'USC00511918', '2010-01-05', 0.0, 75.0)]"
      ]
     },
     "execution_count": 103,
     "metadata": {},
     "output_type": "execute_result"
    }
   ],
   "source": [
    "# Test that the insert works by fetching the first 5 rows. \n",
    "conn.execute(\"select * from weather limit 5\").fetchall()"
   ]
  },
  {
   "cell_type": "code",
   "execution_count": 104,
   "metadata": {},
   "outputs": [
    {
     "data": {
      "text/plain": [
       "<sqlalchemy.engine.result.ResultProxy at 0xa63ddd8>"
      ]
     },
     "execution_count": 104,
     "metadata": {},
     "output_type": "execute_result"
    }
   ],
   "source": [
    "# Use _table.insert() to insert the data into the table\n",
    "conn.execute(s_table.insert(), s_data)"
   ]
  },
  {
   "cell_type": "code",
   "execution_count": 105,
   "metadata": {},
   "outputs": [
    {
     "data": {
      "text/plain": [
       "[(1, 'USC00511918', 'HONOLULU OBSERVATORY 702.2, HI US', 21.3152, -157.9992, 0.9),\n",
       " (2, 'USC00513117', 'KANEOHE 838.1, HI US', 21.4234, -157.8015, 14.6),\n",
       " (3, 'USC00514830', 'KUALOA RANCH HEADQUARTERS 886.9, HI US', 21.5213, -157.8374, 7.0),\n",
       " (4, 'USC00516128', 'MANOA LYON ARBO 785.2, HI US', 21.3331, -157.8025, 152.4),\n",
       " (5, 'USC00517948', 'PEARL CITY, HI US', 21.3934, -157.9751, 11.9)]"
      ]
     },
     "execution_count": 105,
     "metadata": {},
     "output_type": "execute_result"
    }
   ],
   "source": [
    "# Test that the insert works by fetching the first 5 rows. \n",
    "conn.execute(\"select * from station limit 5\").fetchall()"
   ]
  },
  {
   "cell_type": "code",
   "execution_count": 106,
   "metadata": {},
   "outputs": [
    {
     "name": "stdout",
     "output_type": "stream",
     "text": [
      "('table', 'station', 'station', 2, 'CREATE TABLE station (\\n\\tid INTEGER NOT NULL, \\n\\tstation TEXT, \\n\\tname TEXT, \\n\\tlatitude FLOAT, \\n\\tlongitude FLOAT, \\n\\televation FLOAT, \\n\\tPRIMARY KEY (id)\\n)')\n",
      "\n",
      "The #0 table in DB hawaii is called 'station'.\n",
      "('table', 'weather', 'weather', 3, 'CREATE TABLE weather (\\n\\tid INTEGER NOT NULL, \\n\\tstation TEXT, \\n\\tdate TEXT, \\n\\tprcp FLOAT, \\n\\ttobs FLOAT, \\n\\tPRIMARY KEY (id)\\n)')\n",
      "\n",
      "The #1 table in DB hawaii is called 'weather'.\n"
     ]
    }
   ],
   "source": [
    "# list tables in database hawaii\n",
    "tables = engine.execute(\"SELECT * FROM sqlite_master WHERE TYPE='table'\")\n",
    "for index, table in enumerate(tables):\n",
    "    print(table)\n",
    "    print()\n",
    "    table_name = table[1]\n",
    "    print(f\"The #{index} table in DB hawaii is called '{table_name}'.\")"
   ]
  },
  {
   "cell_type": "code",
   "execution_count": 107,
   "metadata": {},
   "outputs": [
    {
     "name": "stdout",
     "output_type": "stream",
     "text": [
      "[(0, 'id', 'INTEGER', 1, None, 1), (1, 'station', 'TEXT', 0, None, 0), (2, 'date', 'TEXT', 0, None, 0), (3, 'prcp', 'FLOAT', 0, None, 0), (4, 'tobs', 'FLOAT', 0, None, 0)]\n",
      "\n",
      "Column 0 is called 'id', and is of type 'INTEGER'.\n",
      "Column 1 is called 'station', and is of type 'TEXT'.\n",
      "Column 2 is called 'date', and is of type 'TEXT'.\n",
      "Column 3 is called 'prcp', and is of type 'FLOAT'.\n",
      "Column 4 is called 'tobs', and is of type 'FLOAT'.\n"
     ]
    }
   ],
   "source": [
    "# https://sqlite.org/pragma.html\n",
    "# list colums in the weather table\n",
    "columns = list(engine.execute(\"PRAGMA table_info(weather)\"))\n",
    "print(columns)\n",
    "print()\n",
    "for column in columns:\n",
    "    (number, name, type, _, _, _) = column\n",
    "    print(f\"Column {number} is called '{name}', and is of type '{type}'.\")"
   ]
  },
  {
   "cell_type": "code",
   "execution_count": 108,
   "metadata": {},
   "outputs": [
    {
     "name": "stdout",
     "output_type": "stream",
     "text": [
      "[(0, 'id', 'INTEGER', 1, None, 1), (1, 'station', 'TEXT', 0, None, 0), (2, 'name', 'TEXT', 0, None, 0), (3, 'latitude', 'FLOAT', 0, None, 0), (4, 'longitude', 'FLOAT', 0, None, 0), (5, 'elevation', 'FLOAT', 0, None, 0)]\n",
      "\n",
      "Column 0 is called 'id', and is of type 'INTEGER'.\n",
      "Column 1 is called 'station', and is of type 'TEXT'.\n",
      "Column 2 is called 'name', and is of type 'TEXT'.\n",
      "Column 3 is called 'latitude', and is of type 'FLOAT'.\n",
      "Column 4 is called 'longitude', and is of type 'FLOAT'.\n",
      "Column 5 is called 'elevation', and is of type 'FLOAT'.\n"
     ]
    }
   ],
   "source": [
    "# https://sqlite.org/pragma.html\n",
    "# list the columns in the Station table\n",
    "columns = list(engine.execute(\"PRAGMA table_info(station)\"))\n",
    "print(columns)\n",
    "print()\n",
    "for column in columns:\n",
    "    (number, name, type, _, _, _) = column\n",
    "    print(f\"Column {number} is called '{name}', and is of type '{type}'.\")"
   ]
  },
  {
   "cell_type": "code",
   "execution_count": 109,
   "metadata": {
    "collapsed": true
   },
   "outputs": [],
   "source": [
    "# Create a session to run SQL\n",
    "from sqlalchemy.orm import Session\n",
    "from sqlalchemy import func\n",
    "# Declare a session\n",
    "session = Session(bind=engine)"
   ]
  },
  {
   "cell_type": "code",
   "execution_count": 110,
   "metadata": {},
   "outputs": [
    {
     "data": {
      "text/plain": [
       "9"
      ]
     },
     "execution_count": 110,
     "metadata": {},
     "output_type": "execute_result"
    }
   ],
   "source": [
    "# Get an actual number for count(*) by using scalar()\n",
    "session.query(func.count(station.id)).scalar()"
   ]
  },
  {
   "cell_type": "code",
   "execution_count": 111,
   "metadata": {},
   "outputs": [
    {
     "data": {
      "text/plain": [
       "18103"
      ]
     },
     "execution_count": 111,
     "metadata": {},
     "output_type": "execute_result"
    }
   ],
   "source": [
    "# Get an actual number for count(*) by using scalar()\n",
    "session.query(func.count(weather.id)).scalar()"
   ]
  },
  {
   "cell_type": "code",
   "execution_count": 112,
   "metadata": {},
   "outputs": [],
   "source": [
    "# Use table.delete() to remove any existing data and re-run.\n",
    "# conn.execute(w_table.delete())\n",
    "# conn.execute(s_table.delete())"
   ]
  },
  {
   "cell_type": "code",
   "execution_count": null,
   "metadata": {
    "collapsed": true
   },
   "outputs": [],
   "source": []
  }
 ],
 "metadata": {
  "anaconda-cloud": {},
  "celltoolbar": "Create Assignment",
  "kernel_info": {
   "name": "python3"
  },
  "kernelspec": {
   "display_name": "Python 3",
   "language": "python",
   "name": "python3"
  },
  "language_info": {
   "codemirror_mode": {
    "name": "ipython",
    "version": 3
   },
   "file_extension": ".py",
   "mimetype": "text/x-python",
   "name": "python",
   "nbconvert_exporter": "python",
   "pygments_lexer": "ipython3",
   "version": "3.6.1"
  },
  "nteract": {
   "version": "0.2.0"
  }
 },
 "nbformat": 4,
 "nbformat_minor": 2
}
