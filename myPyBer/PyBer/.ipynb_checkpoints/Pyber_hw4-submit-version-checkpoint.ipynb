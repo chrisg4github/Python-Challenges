{
 "cells": [
  {
   "cell_type": "code",
   "execution_count": 87,
   "metadata": {
    "collapsed": true
   },
   "outputs": [],
   "source": [
    "# Dependencies\n",
    "from matplotlib.figure import Figure\n",
    "import matplotlib.pyplot as plt\n",
    "import matplotlib.dates as mdates\n",
    "import pandas as pd\n",
    "import numpy as np\n",
    "import datetime as dt\n",
    "import seaborn as sns\n",
    "np.random.seed(sum(map(ord, \"aesthetics\")))"
   ]
  },
  {
   "cell_type": "code",
   "execution_count": 88,
   "metadata": {
    "collapsed": true
   },
   "outputs": [],
   "source": [
    "# Store filepath in a variable\n",
    "city_file = \"city_data.csv\"\n",
    "# Read our Data file with the pandas library\n",
    "city_df = pd.read_csv(city_file)\n",
    "city_df.sort_values(\"city\",inplace=True)\n",
    "# Analyze the data\n",
    "#city_df.head(5)\n",
    "#len(city_df.index)\n",
    "#city_df.info()\n",
    "#city_df.describe\n",
    "# For data analysis: Export file as an XLSX, w/o index, w/ header\n",
    "#city_df.to_excel(\"../output/city_source.xlsx\", index=False, header=True)"
   ]
  },
  {
   "cell_type": "code",
   "execution_count": 89,
   "metadata": {
    "collapsed": true
   },
   "outputs": [],
   "source": [
    "# Store filepath in a variable\n",
    "ride_file = \"ride_data.csv\"\n",
    "# Read our Data file with the pandas library and parse the date as datetime\n",
    "ride_df = pd.read_csv(ride_file, parse_dates=[\"date\"])\n",
    "ride_df.sort_values(\"city\",inplace=True)\n",
    "# Analyze the data\n",
    "#ride_df.head(5)\n",
    "#len(ride_df.index)\n",
    "#ride_df.dtypes\n",
    "# For data analysis: Export file as an XLSX, w/o index, w/ header\n",
    "#ride_df.to_excel(\"../output/ride_source.xlsx\", index=False, header=True)"
   ]
  },
  {
   "cell_type": "code",
   "execution_count": 90,
   "metadata": {},
   "outputs": [
    {
     "data": {
      "text/html": [
       "<div>\n",
       "<style>\n",
       "    .dataframe thead tr:only-child th {\n",
       "        text-align: right;\n",
       "    }\n",
       "\n",
       "    .dataframe thead th {\n",
       "        text-align: left;\n",
       "    }\n",
       "\n",
       "    .dataframe tbody tr th {\n",
       "        vertical-align: top;\n",
       "    }\n",
       "</style>\n",
       "<table border=\"1\" class=\"dataframe\">\n",
       "  <thead>\n",
       "    <tr style=\"text-align: right;\">\n",
       "      <th></th>\n",
       "      <th>city</th>\n",
       "      <th>date</th>\n",
       "      <th>fare</th>\n",
       "      <th>ride_id</th>\n",
       "      <th>driver_count</th>\n",
       "      <th>type</th>\n",
       "    </tr>\n",
       "  </thead>\n",
       "  <tbody>\n",
       "    <tr>\n",
       "      <th>0</th>\n",
       "      <td>Alvarezhaven</td>\n",
       "      <td>2016-08-01 00:39:48</td>\n",
       "      <td>6.42</td>\n",
       "      <td>8394540350728</td>\n",
       "      <td>21</td>\n",
       "      <td>Urban</td>\n",
       "    </tr>\n",
       "    <tr>\n",
       "      <th>30</th>\n",
       "      <td>Alvarezhaven</td>\n",
       "      <td>2016-05-15 20:43:44</td>\n",
       "      <td>40.04</td>\n",
       "      <td>1806812593131</td>\n",
       "      <td>21</td>\n",
       "      <td>Urban</td>\n",
       "    </tr>\n",
       "    <tr>\n",
       "      <th>29</th>\n",
       "      <td>Alvarezhaven</td>\n",
       "      <td>2016-02-07 02:46:18</td>\n",
       "      <td>35.22</td>\n",
       "      <td>5405756761666</td>\n",
       "      <td>21</td>\n",
       "      <td>Urban</td>\n",
       "    </tr>\n",
       "    <tr>\n",
       "      <th>28</th>\n",
       "      <td>Alvarezhaven</td>\n",
       "      <td>2016-08-18 07:12:06</td>\n",
       "      <td>20.74</td>\n",
       "      <td>357421158941</td>\n",
       "      <td>21</td>\n",
       "      <td>Urban</td>\n",
       "    </tr>\n",
       "    <tr>\n",
       "      <th>27</th>\n",
       "      <td>Alvarezhaven</td>\n",
       "      <td>2016-09-23 21:51:59</td>\n",
       "      <td>17.67</td>\n",
       "      <td>3829336915201</td>\n",
       "      <td>21</td>\n",
       "      <td>Urban</td>\n",
       "    </tr>\n",
       "  </tbody>\n",
       "</table>\n",
       "</div>"
      ],
      "text/plain": [
       "            city                date   fare        ride_id  driver_count  \\\n",
       "0   Alvarezhaven 2016-08-01 00:39:48   6.42  8394540350728            21   \n",
       "30  Alvarezhaven 2016-05-15 20:43:44  40.04  1806812593131            21   \n",
       "29  Alvarezhaven 2016-02-07 02:46:18  35.22  5405756761666            21   \n",
       "28  Alvarezhaven 2016-08-18 07:12:06  20.74   357421158941            21   \n",
       "27  Alvarezhaven 2016-09-23 21:51:59  17.67  3829336915201            21   \n",
       "\n",
       "     type  \n",
       "0   Urban  \n",
       "30  Urban  \n",
       "29  Urban  \n",
       "28  Urban  \n",
       "27  Urban  "
      ]
     },
     "execution_count": 90,
     "metadata": {},
     "output_type": "execute_result"
    }
   ],
   "source": [
    "# Merge the two dataframes on the \"city\" field\n",
    "# re-order columns: city, date, fare, ride_id, driver_count, type and sort by \"city\"\n",
    "#pd.options.display.max_rows = 100\n",
    "pyber_df = pd.merge(city_df, ride_df, on=(\"city\"), how=\"inner\", suffixes=(\"_x\", \"_y\"))\n",
    "pyber_df = pyber_df[[\"city\", \"date\", \"fare\", \"ride_id\", \"driver_count\", \"type\"]].sort_values(\"city\")\n",
    "pyber_df.head(5)"
   ]
  },
  {
   "cell_type": "code",
   "execution_count": 91,
   "metadata": {
    "collapsed": true
   },
   "outputs": [],
   "source": [
    "# Analyze combined data set\n",
    "#len(pyber_df.index)\n",
    "#pyber_df.info()\n",
    "#pyber_df.describe\n",
    "#pyber_df.dtypes\n",
    "# For data analysis: Export file as an XLSX, w/o index, w/ header\n",
    "#pyber_df.to_excel(\"../output/pyber_source.xlsx\", index=False, header=True)"
   ]
  },
  {
   "cell_type": "code",
   "execution_count": 92,
   "metadata": {
    "collapsed": true
   },
   "outputs": [],
   "source": [
    "#\n",
    "# DATA COMMENTS\n",
    "#"
   ]
  },
  {
   "cell_type": "code",
   "execution_count": 93,
   "metadata": {
    "collapsed": true
   },
   "outputs": [],
   "source": [
    "# Source Data Modification Comments: \n",
    "# When loading the data, there are 2375 rows in ride_data.csv, so I wondered why  did I have 2407 \n",
    "# rows when I merged the city and ride data?  The answer was that there were two records for \n",
    "# Port James in city_data.csv, one with 3 drivers and the other with 15 drivers.  Since, I was \n",
    "# going to use this data set in future processes, I made the decision to manually remove one record \n",
    "# and change the driver count to 18 for the remaining record.  This change resulted in expected and \n",
    "# reasonable record counts when merging, summing, or manipulating the data sets.\n",
    "\n",
    "# Data Trend Analysis:\n",
    "# 1)It might seem obvious but there are more people using Pyber in an urban setting.  It makes \n",
    "# sense that people in a city may either not have a car or don't want to use it in the city due to \n",
    "# traffic or parking and  using a ride service can be convenient and cost effective.  On the other \n",
    "# hand, people in rural and suburban environments live there because they want to be in an non-urban \n",
    "# environment, and since public transportation services are limited to non-existent, inconvenient, \n",
    "# and expensive  outside of cities, these people would be mostly self-sufficient in the \n",
    "# transportation department, so they would use the service less.  Drawing on my experience and \n",
    "# knowledge, people in rural and suburban areas would use ride services in special situations like \n",
    "# going to the airport where you might not want to leave your car, and since services that older \n",
    "# people use are in urban to suburban  areas, they would in many case have the option to use a ride \n",
    "# service to get to those services.  And the difference between suburban and rural usage could be \n",
    "# related to how close suburbanites are to a city and its amenities, greater availability of public \n",
    "# transportation, and ride services like Pyber ride share.\n",
    "\n",
    "# 2)Cost surprised me a little because there is a pretty good distribution of rides to cost across \n",
    "# the three types.  There were some outliers, but they weren't numerous and didn't seem a concern.  \n",
    "# I would have guessed that urban users would do more and shorter trips resulting in more rides and \n",
    "# more at a lower cost than other groups, and that was displayed in the data.  I never have used a \n",
    "# Pyber type ride service, so I don't know about the costs, but I have to think that especially rural \n",
    "# and suburban users, cost would impact the number of rides they take which supports my assumption \n",
    "# that usage would mainly be for special occasions or services.   Another possible cost savings and \n",
    "# incentive for urban people would cost sharing that is possible in that setting.  If we added a few \n",
    "# more data points, we could have a lot of interesting information, and information that might be \n",
    "# helpful in advertising for business growth.  \n",
    "\n",
    "# 3)As for the number of drivers, I was surprised by the size of some the gold bubbles because these \n",
    "# are related rural cities, and I would expect fewer drivers but that wasn't the case.  It seems from \n",
    "# looking at the color and size of the data that there are an adequete number of drivers in a lot of \n",
    "# cases for rural drivers.  Certainly, the suburban users had enough drivers to choose from, and usage \n",
    "# correlates or drives(supply and demand) the need for drivers which is also  shown by the urban \n",
    "# bubbles.  I would expect more bubbles and bigger bubbles in a city and the bubble chart supports this \n",
    "# expectation.  From television, not experience, I have an idea that it is hard for people to get a \n",
    "# taxi, so if you look at the bubbles there is certainly more demand and supply as the environment \n",
    "# moves from rural to urban.  Is the real or perceived lack of taxis driving the demand for a Pyber \n",
    "# like service?  It might be good to look further into why people choose a Pyber type service over a \n",
    "# taxi.  In any case, the number of drivers looks adequete for all environments.\n",
    "\n",
    "# 4)In conclusion, this was interesting data, and I can think of other information that might make it \n",
    "# more useful and informative, like male/female usage, reason for usage, other alternatives to Pyber, \n",
    "# satisfaction/dissatisfaction with the service, and crime statistics just to name a few."
   ]
  },
  {
   "cell_type": "code",
   "execution_count": 94,
   "metadata": {
    "collapsed": true
   },
   "outputs": [],
   "source": [
    "#\n",
    "# BEGIN DATA ORGANIZATION AND CHARTING\n",
    "#"
   ]
  },
  {
   "cell_type": "code",
   "execution_count": 95,
   "metadata": {},
   "outputs": [
    {
     "data": {
      "text/html": [
       "<div>\n",
       "<style>\n",
       "    .dataframe thead tr:only-child th {\n",
       "        text-align: right;\n",
       "    }\n",
       "\n",
       "    .dataframe thead th {\n",
       "        text-align: left;\n",
       "    }\n",
       "\n",
       "    .dataframe tbody tr th {\n",
       "        vertical-align: top;\n",
       "    }\n",
       "</style>\n",
       "<table border=\"1\" class=\"dataframe\">\n",
       "  <thead>\n",
       "    <tr style=\"text-align: right;\">\n",
       "      <th></th>\n",
       "      <th>city</th>\n",
       "      <th>avg_fare</th>\n",
       "    </tr>\n",
       "  </thead>\n",
       "  <tbody>\n",
       "    <tr>\n",
       "      <th>0</th>\n",
       "      <td>Alvarezhaven</td>\n",
       "      <td>23.928710</td>\n",
       "    </tr>\n",
       "    <tr>\n",
       "      <th>1</th>\n",
       "      <td>Alyssaberg</td>\n",
       "      <td>20.609615</td>\n",
       "    </tr>\n",
       "    <tr>\n",
       "      <th>2</th>\n",
       "      <td>Anitamouth</td>\n",
       "      <td>37.315556</td>\n",
       "    </tr>\n",
       "    <tr>\n",
       "      <th>3</th>\n",
       "      <td>Antoniomouth</td>\n",
       "      <td>23.625000</td>\n",
       "    </tr>\n",
       "    <tr>\n",
       "      <th>4</th>\n",
       "      <td>Aprilchester</td>\n",
       "      <td>21.981579</td>\n",
       "    </tr>\n",
       "  </tbody>\n",
       "</table>\n",
       "</div>"
      ],
      "text/plain": [
       "           city   avg_fare\n",
       "0  Alvarezhaven  23.928710\n",
       "1    Alyssaberg  20.609615\n",
       "2    Anitamouth  37.315556\n",
       "3  Antoniomouth  23.625000\n",
       "4  Aprilchester  21.981579"
      ]
     },
     "execution_count": 95,
     "metadata": {},
     "output_type": "execute_result"
    }
   ],
   "source": [
    "# Bubble Plot of Pyber Data\n",
    "# Collect data for the bubble plot\n",
    "\n",
    "## Average Fare ($) Per City is the y-axis\n",
    "## group by [\"city\"] and get the fare.mean()\n",
    "average_fare = pyber_df.groupby([\"city\"], as_index=False)[\"fare\"].mean().rename(columns={\n",
    "    \"fare\": \"avg_fare\"})\n",
    "average_fare.head(5)\n",
    "#average_fare.info()\n",
    "#average_fare.decribe\n",
    "#average_fare.dtypes\n",
    "#print (average_fare)\n",
    "#print(len(average_fare))\n",
    "# max_fare = average_fare[\"avg_fare\"].max()\n",
    "# max_fare"
   ]
  },
  {
   "cell_type": "code",
   "execution_count": 96,
   "metadata": {},
   "outputs": [
    {
     "data": {
      "text/html": [
       "<div>\n",
       "<style>\n",
       "    .dataframe thead tr:only-child th {\n",
       "        text-align: right;\n",
       "    }\n",
       "\n",
       "    .dataframe thead th {\n",
       "        text-align: left;\n",
       "    }\n",
       "\n",
       "    .dataframe tbody tr th {\n",
       "        vertical-align: top;\n",
       "    }\n",
       "</style>\n",
       "<table border=\"1\" class=\"dataframe\">\n",
       "  <thead>\n",
       "    <tr style=\"text-align: right;\">\n",
       "      <th></th>\n",
       "      <th>city</th>\n",
       "      <th>ride_count</th>\n",
       "    </tr>\n",
       "  </thead>\n",
       "  <tbody>\n",
       "    <tr>\n",
       "      <th>0</th>\n",
       "      <td>Alvarezhaven</td>\n",
       "      <td>31</td>\n",
       "    </tr>\n",
       "    <tr>\n",
       "      <th>1</th>\n",
       "      <td>Alyssaberg</td>\n",
       "      <td>26</td>\n",
       "    </tr>\n",
       "    <tr>\n",
       "      <th>2</th>\n",
       "      <td>Anitamouth</td>\n",
       "      <td>9</td>\n",
       "    </tr>\n",
       "    <tr>\n",
       "      <th>3</th>\n",
       "      <td>Antoniomouth</td>\n",
       "      <td>22</td>\n",
       "    </tr>\n",
       "    <tr>\n",
       "      <th>4</th>\n",
       "      <td>Aprilchester</td>\n",
       "      <td>19</td>\n",
       "    </tr>\n",
       "  </tbody>\n",
       "</table>\n",
       "</div>"
      ],
      "text/plain": [
       "           city  ride_count\n",
       "0  Alvarezhaven          31\n",
       "1    Alyssaberg          26\n",
       "2    Anitamouth           9\n",
       "3  Antoniomouth          22\n",
       "4  Aprilchester          19"
      ]
     },
     "execution_count": 96,
     "metadata": {},
     "output_type": "execute_result"
    }
   ],
   "source": [
    "## Total Number of Rides Per City is the x-axis\n",
    "## group by [\"city\"] and get the ride_id.count()\n",
    "total_rides = pyber_df.groupby([\"city\"], as_index=False)[\"ride_id\"].count().rename(columns={\n",
    "    \"ride_id\": \"ride_count\"})\n",
    "total_rides.head(5)\n",
    "#total_rides.info()\n",
    "#total_rides.describe\n",
    "#total_rides.dtypes\n",
    "#print (total_rides) \n",
    "#print(len(total_rides))\n",
    "# max_rides = total_rides[\"ride_count\"].max()\n",
    "# max_rides"
   ]
  },
  {
   "cell_type": "code",
   "execution_count": 97,
   "metadata": {},
   "outputs": [
    {
     "data": {
      "text/html": [
       "<div>\n",
       "<style>\n",
       "    .dataframe thead tr:only-child th {\n",
       "        text-align: right;\n",
       "    }\n",
       "\n",
       "    .dataframe thead th {\n",
       "        text-align: left;\n",
       "    }\n",
       "\n",
       "    .dataframe tbody tr th {\n",
       "        vertical-align: top;\n",
       "    }\n",
       "</style>\n",
       "<table border=\"1\" class=\"dataframe\">\n",
       "  <thead>\n",
       "    <tr style=\"text-align: right;\">\n",
       "      <th></th>\n",
       "      <th>city</th>\n",
       "      <th>driver_count</th>\n",
       "    </tr>\n",
       "  </thead>\n",
       "  <tbody>\n",
       "    <tr>\n",
       "      <th>0</th>\n",
       "      <td>Alvarezhaven</td>\n",
       "      <td>21</td>\n",
       "    </tr>\n",
       "    <tr>\n",
       "      <th>1</th>\n",
       "      <td>Alyssaberg</td>\n",
       "      <td>67</td>\n",
       "    </tr>\n",
       "    <tr>\n",
       "      <th>2</th>\n",
       "      <td>Anitamouth</td>\n",
       "      <td>16</td>\n",
       "    </tr>\n",
       "    <tr>\n",
       "      <th>3</th>\n",
       "      <td>Antoniomouth</td>\n",
       "      <td>21</td>\n",
       "    </tr>\n",
       "    <tr>\n",
       "      <th>4</th>\n",
       "      <td>Aprilchester</td>\n",
       "      <td>49</td>\n",
       "    </tr>\n",
       "  </tbody>\n",
       "</table>\n",
       "</div>"
      ],
      "text/plain": [
       "           city  driver_count\n",
       "0  Alvarezhaven            21\n",
       "1    Alyssaberg            67\n",
       "2    Anitamouth            16\n",
       "3  Antoniomouth            21\n",
       "4  Aprilchester            49"
      ]
     },
     "execution_count": 97,
     "metadata": {},
     "output_type": "execute_result"
    }
   ],
   "source": [
    "# Total Number of Drivers Per City correlates to bubble size\n",
    "\n",
    "# Uses city_df\n",
    "dcounts_df = city_df[[\"city\",\"driver_count\"]]\n",
    "dcounts_df.head(5)\n",
    "#dcounts_df.info()\n",
    "#dcounts_df.dtypes\n",
    "#dcounts_df.describe\n",
    "#len(dcounts_df)"
   ]
  },
  {
   "cell_type": "code",
   "execution_count": 98,
   "metadata": {},
   "outputs": [
    {
     "data": {
      "text/html": [
       "<div>\n",
       "<style>\n",
       "    .dataframe thead tr:only-child th {\n",
       "        text-align: right;\n",
       "    }\n",
       "\n",
       "    .dataframe thead th {\n",
       "        text-align: left;\n",
       "    }\n",
       "\n",
       "    .dataframe tbody tr th {\n",
       "        vertical-align: top;\n",
       "    }\n",
       "</style>\n",
       "<table border=\"1\" class=\"dataframe\">\n",
       "  <thead>\n",
       "    <tr style=\"text-align: right;\">\n",
       "      <th></th>\n",
       "      <th>city</th>\n",
       "      <th>type</th>\n",
       "    </tr>\n",
       "  </thead>\n",
       "  <tbody>\n",
       "    <tr>\n",
       "      <th>0</th>\n",
       "      <td>Alvarezhaven</td>\n",
       "      <td>Urban</td>\n",
       "    </tr>\n",
       "    <tr>\n",
       "      <th>1</th>\n",
       "      <td>Alyssaberg</td>\n",
       "      <td>Urban</td>\n",
       "    </tr>\n",
       "    <tr>\n",
       "      <th>2</th>\n",
       "      <td>Anitamouth</td>\n",
       "      <td>Suburban</td>\n",
       "    </tr>\n",
       "    <tr>\n",
       "      <th>3</th>\n",
       "      <td>Antoniomouth</td>\n",
       "      <td>Urban</td>\n",
       "    </tr>\n",
       "    <tr>\n",
       "      <th>4</th>\n",
       "      <td>Aprilchester</td>\n",
       "      <td>Urban</td>\n",
       "    </tr>\n",
       "  </tbody>\n",
       "</table>\n",
       "</div>"
      ],
      "text/plain": [
       "           city      type\n",
       "0  Alvarezhaven     Urban\n",
       "1    Alyssaberg     Urban\n",
       "2    Anitamouth  Suburban\n",
       "3  Antoniomouth     Urban\n",
       "4  Aprilchester     Urban"
      ]
     },
     "execution_count": 98,
     "metadata": {},
     "output_type": "execute_result"
    }
   ],
   "source": [
    "# City Type (Urban, Suburban, Rural) is the color legend upper right\n",
    "\n",
    "# Uses city_df, has 125 entries\n",
    "city_type_df = city_df[[\"city\",\"type\"]] #.reset_index(drop=True)\n",
    "city_type_df.head(5)\n",
    "#city_type_df.info()\n",
    "#city_type_df.describe\n",
    "#city_type_df.dtypes\n",
    "#len(city_type_df)"
   ]
  },
  {
   "cell_type": "code",
   "execution_count": 99,
   "metadata": {
    "collapsed": true
   },
   "outputs": [],
   "source": [
    "# City Type (Urban, Suburban, Rural) for color legend\n",
    "citytype = pyber_df[\"type\"].unique()\n",
    "#citytype.sort()\n",
    "#print(citytype)"
   ]
  },
  {
   "cell_type": "code",
   "execution_count": 100,
   "metadata": {},
   "outputs": [
    {
     "data": {
      "image/png": "[encoded data removed]",
      "text/plain": [
       "<matplotlib.figure.Figure at 0xbbc1d30>"
      ]
     },
     "metadata": {},
     "output_type": "display_data"
    }
   ],
   "source": [
    "# # Pyber_hw4.ipynb\n",
    "# # See the following for program documentation:\n",
    "# # myPyber_HW4_Steps.docx -- my high level program steps\n",
    "# # README_HW4.md  -- HW4 assignment .md file\n",
    "# # \n",
    "# # Bubble Chart Relationships:\n",
    "# # x axis is total rides, y axis is average fares \n",
    "# # colors are related to type (i.e. \"Rural\" = \"gold\")\n",
    "# # driver count is related to bubble size\n",
    "# #-----------------------------------------------------------------------------------\n",
    "# # Seaborn.lmplot was used as a model.  The lmplot function combines regplot() \n",
    "# # and FacetGrid. It is intended as a convenient interface to fit regression \n",
    "# # models across conditional subsets of a dataset.\n",
    "# # http://seaborn.pydata.org/generated/seaborn.lmplot.html\n",
    "# #-----------------------------------------------------------------------------------\n",
    "# #\n",
    "import matplotlib.pyplot as plt\n",
    "import matplotlib as mpl\n",
    "import numpy as np\n",
    "import seaborn as sns\n",
    "import pandas as pd\n",
    "\n",
    "# #-----------------------------------------------------------------------------------\n",
    "\n",
    "# all lists should have 125 elements\n",
    "y_fare = average_fare[\"avg_fare\"]\n",
    "x_ride = total_rides[\"ride_count\"]\n",
    "# print(\"y_fare is \", y_fare.head())\n",
    "# print(\"x_ride is \", x_ride.head())\n",
    "\n",
    "# Set my default color palette\n",
    "mycolors = [\"lightskyblue\", \"lightcoral\", \"gold\"]\n",
    "sns.set_palette(mycolors)\n",
    "#sns.palplot(sns.color_palette())\n",
    "\n",
    "# color is related to \"city\" type \n",
    "colors = {\"Urban\":\"lightskyblue\", \"Suburban\":\"lightcoral\", \"Rural\":\"gold\"}\n",
    "#print(\"dataframe colors is \", colors)\n",
    "\n",
    "# Apply the colors to the \"city\" type\n",
    "ctype = city_type_df[\"type\"].apply(lambda x: colors[x])\n",
    "#print(ctype)\n",
    "\n",
    "b_df = pd.DataFrame(dict(x=x_ride, y=y_fare, color=ctype))\n",
    "#b_df\n",
    "\n",
    "# #-----------------------------------------------------------------------------------\n",
    "# bubble size modification of dcount_df\n",
    "markersize_df = 10000* dcounts_df[\"driver_count\"] / sum(dcounts_df[\"driver_count\"])\n",
    "markersize_df\n",
    "\n",
    "# #-----------------------------------------------------------------------------------\n",
    "# # edge color experimentation\n",
    "# #scatter_kws={'linewidths':1,'edgecolor':'k'\n",
    "# #scatter_kws={\"s\": markersize_df, \"linewidths\":1, \"edgecolor\":\"color\"}\n",
    "# #-----------------------------------------------------------------------------------\n",
    "\n",
    "lm = sns.lmplot(x=\"x\", y=\"y\", data=b_df, hue=\"color\", legend=False, fit_reg=False, \n",
    "           scatter_kws={\"s\": markersize_df})\n",
    "sns.set_style(\"darkgrid\")\n",
    "sns.plt.title(\"Pyber Ride Sharing Data (2016)\", weight='bold').set_fontsize('12')\n",
    "sns.plt.xlabel(\"Total Number of Rides (Per City)\", weight='bold').set_fontsize('12')\n",
    "sns.plt.ylabel(\"Average Fare ($)\", weight='bold',).set_fontsize('12')\n",
    "\n",
    "# Note on the right hand side of the chart\n",
    "lm.fig.text(1, .5,\"Note: Circle size\\ncorrelates with\\ndriver count\\nper city.\", \n",
    "            fontsize=12, weight='bold', rotation=360)\n",
    "\n",
    "# Legend Title\n",
    "lm.fig.text(.8, .92,\"City Type\", \n",
    "            fontsize=10, weight='bold', rotation=360)\n",
    "\n",
    "# #-----------------------------------------------------------------------------------\n",
    "legend_properties = {\"weight\":\"bold\"}\n",
    "plt.legend([citytype[0], citytype[1], citytype[2]], title=\" \", prop=legend_properties, loc=1)\n",
    "plt.savefig(\"./chart_images/pyber_bubble_chart.png\",bbox_inches=\"tight\")\n",
    "plt.show()"
   ]
  },
  {
   "cell_type": "code",
   "execution_count": 101,
   "metadata": {
    "collapsed": true
   },
   "outputs": [],
   "source": [
    "#average_fare.shape, total_rides.shape"
   ]
  },
  {
   "cell_type": "code",
   "execution_count": 102,
   "metadata": {},
   "outputs": [
    {
     "data": {
      "image/png": "[encoded data removed]",
      "text/plain": [
       "<matplotlib.figure.Figure at 0xbb42048>"
      ]
     },
     "metadata": {},
     "output_type": "display_data"
    }
   ],
   "source": [
    "# example bubble chart for help\n",
    "import matplotlib.pyplot as plt\n",
    "import numpy as np\n",
    "import seaborn as sns\n",
    "np.random.seed(sum(map(ord, \"aesthetics\")))\n",
    "## https://plot.ly/python/getting-started/\n",
    "#import plotly.plotly as py  # not installed\n",
    "\n",
    "n = 50\n",
    "x, y, z, s, ew = np.random.rand(5, n)\n",
    "\n",
    "c, ec = np.random.rand(2, n, 4)\n",
    "\n",
    "area_scale, width_scale = 500, 5\n",
    "\n",
    "fig, ax = plt.subplots()\n",
    "\n",
    "sc = ax.scatter(x, y, s=np.square(s)*area_scale, c=c, edgecolor=ec, \n",
    "                linewidth=ew*width_scale)\n",
    "#ax.grid()\n",
    "sns.set_style(\"darkgrid\")\n",
    "\n",
    "plt.savefig(\"./chart_images/bubble_scatter.png\")\n",
    "plt.show()\n"
   ]
  },
  {
   "cell_type": "code",
   "execution_count": 103,
   "metadata": {},
   "outputs": [
    {
     "name": "stdout",
     "output_type": "stream",
     "text": [
      "['Rural' 'Suburban' 'Urban']\n"
     ]
    }
   ],
   "source": [
    "# City Type (Urban, Suburban, Rural) is the color legend upper right\n",
    "# groupby or unique list of type called \"city type\"\n",
    "citytype = pyber_df[\"type\"].unique()\n",
    "citytype.sort()\n",
    "print(citytype)"
   ]
  },
  {
   "cell_type": "code",
   "execution_count": 104,
   "metadata": {
    "collapsed": true
   },
   "outputs": [],
   "source": [
    "# Create data for pie chart % of Total Fares by City-Type.\n",
    "\n",
    "total_fares = pyber_df.groupby([\"type\"], as_index=False)[\"fare\"].sum()\n",
    "#print(total_fares)\n",
    "#total_fares.info()\n",
    "#total_fares.columns\n",
    "\n",
    "\n",
    "sum_fares = total_fares[\"fare\"].sum()\n",
    "#print(sum_fares)\n",
    "#sum_fares.info()\n",
    "#sum_fares.columns\n",
    "\n",
    "# append percentages into a list\n",
    "fares_pct = []\n",
    "for i in range(0, len(total_fares)):\n",
    "    #print( round(((total_fares.iloc[i].fare/sum_fares)* 100),2))\n",
    "    fares_pct.append(round(((total_fares.iloc[i].fare/sum_fares)* 100),2))\n",
    "#print(rides_pct)"
   ]
  },
  {
   "cell_type": "code",
   "execution_count": 105,
   "metadata": {},
   "outputs": [
    {
     "data": {
      "image/png": "[encoded data removed]",
      "text/plain": [
       "<matplotlib.figure.Figure at 0x6ad7f98>"
      ]
     },
     "metadata": {},
     "output_type": "display_data"
    }
   ],
   "source": [
    "# hw4_pie_chart1.py\n",
    "#\n",
    "\n",
    "# Dependencies\n",
    "import matplotlib.pyplot as plt\n",
    "import numpy as np\n",
    " \n",
    "# https://matplotlib.org/2.0.0b4/examples/color/named_colors.html\n",
    "\n",
    "fig = plt.figure()\n",
    "ax = fig.add_subplot(111)\n",
    "\n",
    "types = citytype\n",
    "f_pct = fares_pct\n",
    "\n",
    "colors = [\"gold\", \"lightcoral\", \"lightskyblue\"]\n",
    "explode = (0, 0, 0.08)\n",
    "\n",
    "x_axis = np.arange(0, len(types))\n",
    "\n",
    "ax.set_title(\"Total Fares by City-Type\", weight='bold')\n",
    "ax.pie(f_pct, explode=explode, labels=types, colors=colors,\n",
    "       autopct=\"%1.1f%%\", textprops={'weight': 'bold'}, \n",
    "       shadow=True, startangle=120)\n",
    "ax.axis(\"equal\")\n",
    "\n",
    "plt.tight_layout()\n",
    "plt.savefig(\"./chart_images/fares_city-type%_pie_chart.png\")\n",
    "plt.show()"
   ]
  },
  {
   "cell_type": "code",
   "execution_count": 106,
   "metadata": {
    "collapsed": true
   },
   "outputs": [],
   "source": [
    "# Commenets on total Fares by City-Type\n",
    "# Total Fares by City-Type:\n",
    "# The pie chart for Total Fares by City-Type shows what I would have expected in \n",
    "# that Urban people use the ride service the most, followed by Suburban, and \n",
    "# Rural.  The percentage of fares to city type is reasonable and expected so no \n",
    "# outlier situations are obvious.  The percentages were created by summing the \n",
    "# number of fares for each city type, and then dividing each sum by the total of \n",
    "# all fares.  This is also known as: part / whole = %."
   ]
  },
  {
   "cell_type": "code",
   "execution_count": 107,
   "metadata": {
    "collapsed": true
   },
   "outputs": [],
   "source": [
    "# Create data for pie chart % of Total Rides by City-Type.\n",
    "\n",
    "total_rides = pyber_df.groupby([\"type\"], as_index=False)[\"ride_id\"].count()\n",
    "#print (total_rides)\n",
    "#total_rides.info()\n",
    "#total_rides.columns\n",
    "\n",
    "# 2407 total rides\n",
    "sum_rides = total_rides[\"ride_id\"].sum()\n",
    "#sum_rides\n",
    "#sum_rides.info()\n",
    "#sum_rides.columns\n",
    "\n",
    "# append percentages into a list\n",
    "rides_pct = []\n",
    "for i in range(0, len(total_rides)):\n",
    "    #print( round(((total_rides.iloc[i].ride_id/sum_rides)* 100),2))\n",
    "    rides_pct.append(round(((total_rides.iloc[i].ride_id/sum_rides)* 100),2))\n",
    "#print(rides_pct)"
   ]
  },
  {
   "cell_type": "code",
   "execution_count": 108,
   "metadata": {},
   "outputs": [
    {
     "data": {
      "image/png": "[encoded data removed]",
      "text/plain": [
       "<matplotlib.figure.Figure at 0xbb51940>"
      ]
     },
     "metadata": {},
     "output_type": "display_data"
    }
   ],
   "source": [
    "# hw4_pie_chart2.py\n",
    "#\n",
    "\n",
    "# Dependencies\n",
    "import matplotlib.pyplot as plt\n",
    "import numpy as np\n",
    " \n",
    "# https://matplotlib.org/2.0.0b4/examples/color/named_colors.html\n",
    "\n",
    "fig = plt.figure()\n",
    "ax = fig.add_subplot(111)\n",
    "\n",
    "types = citytype\n",
    "r_pct = rides_pct\n",
    "\n",
    "colors = [\"gold\", \"lightcoral\", \"lightskyblue\"]\n",
    "explode = (0, 0, 0.08)\n",
    "\n",
    "x_axis = np.arange(0, len(types))\n",
    "\n",
    "ax.set_title(\"Total Rides by City-Type\", weight='bold')\n",
    "ax.pie(r_pct, explode=explode, labels=types, colors=colors,\n",
    "       autopct=\"%1.1f%%\", textprops={'weight': 'bold'}, \n",
    "       shadow=True, startangle=120)\n",
    "ax.axis(\"equal\")\n",
    "\n",
    "plt.tight_layout()\n",
    "plt.savefig(\"./chart_images/rides_city-type%_pie_chart.png\")\n",
    "plt.show()"
   ]
  },
  {
   "cell_type": "code",
   "execution_count": 109,
   "metadata": {
    "collapsed": true
   },
   "outputs": [],
   "source": [
    "# Comments on Total Rides by City-Type\n",
    "# Total Rides by City-Type:\n",
    "# Again the data displayed results that were expected, and not a whole lot of other \n",
    "# information.  Pie charts seem like big picture tools, so they are doing their job \n",
    "# in this case.  There were more rides in Urban areas than Suburban areas and the \n",
    "# same with Rural areas.  This isn't a surprise, but could lead to a need to look at \n",
    "# the data or data collected differently.  It is a good start.  .  The percentages \n",
    "# were created by counting the number of rides for each city type, and then dividing \n",
    "# each count by the total of all rides.  This is also known as: part / whole which \n",
    "# is the %"
   ]
  },
  {
   "cell_type": "code",
   "execution_count": 110,
   "metadata": {
    "collapsed": true
   },
   "outputs": [],
   "source": [
    "# Create datat for pie chart % of Total Drivers by City, Type.\n",
    "\n",
    "# Create new dataframe with only 3 columns--note the double brackets\n",
    "summary_df = pyber_df[[\"city\", \"type\", \"driver_count\"]]\n",
    "#summary_df.head()\n",
    "\n",
    "# Remove the duplicates from the dataframe to sum driver_count\n",
    "unique_rows = summary_df.drop_duplicates()\n",
    "#unique_rows\n",
    "\n",
    "total_drivers = unique_rows.groupby([\"type\"], as_index=False)[\"driver_count\"].sum()\n",
    "#print(total_drivers)\n",
    "#total_drivers.describe()\n",
    "#total_drivers.columns\n",
    "\n",
    "# Total of Drivers = 3349\n",
    "sum_drivers = total_drivers[\"driver_count\"].sum()\n",
    "#print(sum_drivers)\n",
    "\n",
    "# append percentages into a list\n",
    "driver_pct = []\n",
    "for i in range(0, len(total_drivers)):\n",
    "    #print( round(((total_drivers.iloc[i].driver_count/sum_drivers)* 100),2))\n",
    "    driver_pct.append(round(((total_drivers.iloc[i].driver_count/sum_drivers)* 100),2))\n",
    "#print(driver_pct)\n",
    "\n",
    "# Validation check \"Rural\" adds up to the sum above\n",
    "#unique_rows.loc[unique_rows[\"type\"]== \"Rural\"]"
   ]
  },
  {
   "cell_type": "code",
   "execution_count": 111,
   "metadata": {},
   "outputs": [
    {
     "data": {
      "image/png": "[encoded data removed]",
      "text/plain": [
       "<matplotlib.figure.Figure at 0xbe80e48>"
      ]
     },
     "metadata": {},
     "output_type": "display_data"
    }
   ],
   "source": [
    "# hw4_pie_chart3.py\n",
    "#\n",
    "\n",
    "# Dependencies\n",
    "import matplotlib.pyplot as plt\n",
    "import numpy as np\n",
    " \n",
    "# https://matplotlib.org/2.0.0b4/examples/color/named_colors.html\n",
    "\n",
    "fig = plt.figure()\n",
    "ax = fig.add_subplot(111)\n",
    "\n",
    "types = citytype\n",
    "d_pct = driver_pct\n",
    "\n",
    "colors = [\"gold\", \"lightcoral\", \"lightskyblue\"]\n",
    "explode = (0, 0, 0.08)\n",
    "\n",
    "x_axis = np.arange(0, len(types))\n",
    "\n",
    "ax.set_title(\"Total Drivers by City-Type\", weight='bold')\n",
    "ax.pie(d_pct, explode=explode, labels=types, colors=colors,\n",
    "       autopct=\"%1.1f%%\", textprops={'weight': 'bold'}, \n",
    "       shadow=True, startangle=120)\n",
    "ax.axis(\"equal\")\n",
    "\n",
    "plt.tight_layout()\n",
    "plt.savefig(\"./chart_images/drivers_city-type%_pie_chart.png\")\n",
    "plt.show()"
   ]
  },
  {
   "cell_type": "code",
   "execution_count": 112,
   "metadata": {
    "collapsed": true
   },
   "outputs": [],
   "source": [
    "# Comments on Total Drivers by City-Type\n",
    "# Total Drivers by City-Type:\n",
    "# The pie chart percentages reflect expectations, other charts, and knowledge \n",
    "# gained from doing this project.  The number of drivers for Urban areas is \n",
    "# the greatest with Suburban next, and Rural bringing up the rear.  The data \n",
    "# makes sense and reflects supply and demand.  What isn't visible in this \n",
    "# chart but can be seen in a bubble chart is that there is a surprising number \n",
    "# of drivers available to Rural users of the service, although that would \n",
    "# depend on where they live.  The percentages were created by counting the \n",
    "# number of drivers from the city_data.csv because this has one driver count \n",
    "# per city without doing any work.  The driver counts were grouped by city, by \n",
    "# type and each group count was dived by the total driver count.  This is also \n",
    "# known as: part / whole which is the %. "
   ]
  },
  {
   "cell_type": "code",
   "execution_count": 113,
   "metadata": {
    "collapsed": true
   },
   "outputs": [],
   "source": [
    "# Create a README.md export of my notebook.\n",
    "# README.md is in folder /HW4/Pyber"
   ]
  }
 ],
 "metadata": {
  "kernelspec": {
   "display_name": "Python 3",
   "language": "python",
   "name": "python3"
  },
  "language_info": {
   "codemirror_mode": {
    "name": "ipython",
    "version": 3
   },
   "file_extension": ".py",
   "mimetype": "text/x-python",
   "name": "python",
   "nbconvert_exporter": "python",
   "pygments_lexer": "ipython3",
   "version": "3.6.1"
  }
 },
 "nbformat": 4,
 "nbformat_minor": 2
}
