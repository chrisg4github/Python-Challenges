{
 "cells": [
  {
   "cell_type": "code",
   "execution_count": 9,
   "metadata": {
    "collapsed": true,
    "nbgrader": {
     "grade": false,
     "grade_id": "cell-a2ddf41f9b38feb9",
     "locked": true,
     "schema_version": 1,
     "solution": false
    }
   },
   "outputs": [],
   "source": [
    "# Python SQL toolkit and Object Relational Mapper\n",
    "import sqlalchemy\n",
    "from sqlalchemy.ext.automap import automap_base\n",
    "from sqlalchemy.orm import Session\n",
    "from sqlalchemy import create_engine"
   ]
  },
  {
   "cell_type": "code",
   "execution_count": 10,
   "metadata": {
    "collapsed": true,
    "nbgrader": {
     "grade": false,
     "grade_id": "cell-0f6c76550876c0d9",
     "locked": true,
     "schema_version": 1,
     "solution": false
    }
   },
   "outputs": [],
   "source": [
    "engine = create_engine(\"sqlite:///mammals.sqlite\", echo=False)"
   ]
  },
  {
   "cell_type": "code",
   "execution_count": 11,
   "metadata": {
    "collapsed": true,
    "nbgrader": {
     "grade": false,
     "grade_id": "cell-329bbc66e6d61fb6",
     "locked": true,
     "schema_version": 1,
     "solution": false
    }
   },
   "outputs": [],
   "source": [
    "Base = automap_base()\n",
    "Base.prepare(engine, reflect=True)\n",
    "Base.classes.keys()\n",
    "MammalMasses = Base.classes.mammal_masses_MammalMasses\n",
    "session = Session(engine)"
   ]
  },
  {
   "cell_type": "code",
   "execution_count": 12,
   "metadata": {
    "collapsed": false,
    "nbgrader": {
     "grade": false,
     "grade_id": "cell-8dd894f01d211134",
     "locked": false,
     "schema_version": 1,
     "solution": true
    }
   },
   "outputs": [
    {
     "data": {
      "text/plain": [
       "[('AF'), ('AUS'), ('Af'), ('EA'), ('Insular'), ('NA'), ('Oceanic'), ('SA')]"
      ]
     },
     "execution_count": 12,
     "metadata": {},
     "output_type": "execute_result"
    }
   ],
   "source": [
    "# USE `group_by` to list all of the continents\n",
    "### BEGIN SOLUTION\n",
    "session.query(MammalMasses.continent).group_by(MammalMasses.continent).all()\n",
    "### END SOLUTION"
   ]
  },
  {
   "cell_type": "code",
   "execution_count": 13,
   "metadata": {
    "collapsed": false
   },
   "outputs": [
    {
     "data": {
      "text/plain": [
       "Table('mammal_masses_MammalMasses', MetaData(bind=None), Column('record_id', INTEGER(), table=<mammal_masses_MammalMasses>, primary_key=True, nullable=False), Column('continent', TEXT(length=20), table=<mammal_masses_MammalMasses>), Column('status', TEXT(length=20), table=<mammal_masses_MammalMasses>), Column('sporder', TEXT(length=20), table=<mammal_masses_MammalMasses>), Column('family', TEXT(length=20), table=<mammal_masses_MammalMasses>), Column('genus', TEXT(length=20), table=<mammal_masses_MammalMasses>), Column('species', TEXT(length=20), table=<mammal_masses_MammalMasses>), Column('log_mass_g', REAL(), table=<mammal_masses_MammalMasses>), Column('comb_mass_g', REAL(), table=<mammal_masses_MammalMasses>), Column('reference', TEXT(), table=<mammal_masses_MammalMasses>), schema=None)"
      ]
     },
     "execution_count": 13,
     "metadata": {},
     "output_type": "execute_result"
    }
   ],
   "source": [
    "MammalMasses.__table__"
   ]
  },
  {
   "cell_type": "code",
   "execution_count": 5,
   "metadata": {
    "collapsed": false,
    "nbgrader": {
     "grade": false,
     "grade_id": "cell-6e66378435fa161c",
     "locked": false,
     "schema_version": 1,
     "solution": true
    }
   },
   "outputs": [
    {
     "name": "stdout",
     "output_type": "stream",
     "text": [
      "[('NA', 'Odobenidae', 'Odobenus', 'rosmarus', 825000.0), ('NA', 'Phocidae', 'Mirounga', 'angustirostris', 750000.0), ('NA', 'Bovidae', 'Bison', 'bison', 579255.3), ('NA', 'Trichechidae', 'Trichechus', 'manatus', 433333.0), ('NA', 'Bovidae', 'Ovibos', 'moschatus', 368502.1), ('NA', 'Cervidae', 'Alces', 'alces', 358996.3), ('NA', 'Ursidae', 'Ursus', 'maritimus', 352500.7), ('NA', 'Otariidae', 'Eumetopias', 'jubatus', 310000.0), ('NA', 'Tapiridae', 'Tapirus', 'bairdii', 299999.1), ('NA', 'Phocidae', 'Erignathus', 'barbatus', 280000.0)]\n"
     ]
    }
   ],
   "source": [
    "# Top 10 Largest Mammals in North America still existing\n",
    "# ordered in descending order by mass (g).\n",
    "### BEGIN SOLUTION\n",
    "from sqlalchemy import func\n",
    "sel = [MammalMasses.continent, MammalMasses.family, \n",
    "       MammalMasses.genus, MammalMasses.species, MammalMasses.comb_mass_g]\n",
    "results = session.query(*sel).\\\n",
    "    filter(MammalMasses.continent == \"NA\").\\\n",
    "    filter(MammalMasses.status == \"extant\").\\\n",
    "    filter(MammalMasses.comb_mass_g != None).\\\n",
    "    order_by(MammalMasses.comb_mass_g.desc()).all()\n",
    "print(results[:10])\n",
    "\n",
    "\n",
    "# Alternative solution using the `limit` function\n",
    "from sqlalchemy import func\n",
    "results = session.query(*sel).\\\n",
    "    filter(MammalMasses.continent == \"NA\").\\\n",
    "    filter(MammalMasses.status == \"extant\").\\\n",
    "    filter(MammalMasses.comb_mass_g != None).\\\n",
    "    order_by(MammalMasses.comb_mass_g.desc()).limit(10).all()\n",
    "### END SOLUTION"
   ]
  },
  {
   "cell_type": "code",
   "execution_count": 6,
   "metadata": {
    "collapsed": false,
    "nbgrader": {
     "grade": false,
     "grade_id": "cell-bd945068fd2cb4e6",
     "locked": false,
     "schema_version": 1,
     "solution": true
    }
   },
   "outputs": [
    {
     "data": {
      "text/plain": [
       "31794.525730180805"
      ]
     },
     "execution_count": 6,
     "metadata": {},
     "output_type": "execute_result"
    }
   ],
   "source": [
    "# Calculate the Average Combined Mass of Mammals in Africa\n",
    "# Ignore Null fields\n",
    "# Only Calculate for \"extant\" (currently existing) mammals\n",
    "### BEGIN SOLUTION\n",
    "avg_comb_mass_af = session.query(func.avg(MammalMasses.comb_mass_g)).\\\n",
    "    filter(MammalMasses.status == \"extant\").\\\n",
    "    filter(MammalMasses.comb_mass_g != None).\\\n",
    "    filter(MammalMasses.continent == \"AF\").scalar()\n",
    "avg_comb_mass_af\n",
    "### END SOLUTION"
   ]
  },
  {
   "cell_type": "code",
   "execution_count": 14,
   "metadata": {
    "collapsed": false,
    "nbgrader": {
     "grade": false,
     "grade_id": "cell-45e1f20456afe081",
     "locked": false,
     "schema_version": 1,
     "solution": true
    }
   },
   "outputs": [
    {
     "data": {
      "text/plain": [
       "[('AF', 31794.525730180805),\n",
       " ('AUS', 17484.882608695647),\n",
       " ('EA', 36413.19457236843),\n",
       " ('Insular', 12431.589628820964),\n",
       " ('NA', 11071.727358490578),\n",
       " ('SA', 4126.67529274004)]"
      ]
     },
     "execution_count": 14,
     "metadata": {},
     "output_type": "execute_result"
    }
   ],
   "source": [
    "# Calculate the Average Combined Mass of Mammals per Continent for extant species and\n",
    "# exclude the Oceanic continent\n",
    "### BEGIN SOLUTION\n",
    "average_per_continent = session.query(MammalMasses.continent, \n",
    "                                      func.avg(MammalMasses.comb_mass_g)).\\\n",
    "    filter(MammalMasses.status == \"extant\").\\\n",
    "    filter(MammalMasses.comb_mass_g != None).\\\n",
    "    filter(MammalMasses.continent != 'Oceanic').\\\n",
    "    group_by(MammalMasses.continent).all()\n",
    "average_per_continent\n",
    "### END SOLUTION"
   ]
  },
  {
   "cell_type": "code",
   "execution_count": 20,
   "metadata": {
    "collapsed": false,
    "nbgrader": {
     "grade": false,
     "grade_id": "cell-0195d278476ff6ee",
     "locked": false,
     "schema_version": 1,
     "solution": true
    }
   },
   "outputs": [
    {
     "data": {
      "image/png": "[encoded data removed]",
      "text/plain": [
       "<matplotlib.figure.Figure at 0x107a22400>"
      ]
     },
     "metadata": {},
     "output_type": "display_data"
    }
   ],
   "source": [
    "# BONUS: Use matplotlib to generate a histograph of the Average Mammal Size per Continent\n",
    "# using the previous query results. \n",
    "### BEGIN SOLUTION\n",
    "import matplotlib.pyplot as plt; plt.rcdefaults()\n",
    "import numpy as np\n",
    "import matplotlib.pyplot as plt\n",
    "\n",
    "# get the y positions\n",
    "y_pos = np.arange(len(average_per_continent))\n",
    "\n",
    "# get the averages for each continent\n",
    "avgs = [x[1] for x in average_per_continent]\n",
    "\n",
    "# come up with the names for the x axis ticks\n",
    "xticks = [x[0] for x in average_per_continent]\n",
    " \n",
    "plt.bar(y_pos, avgs, align='center', alpha=0.5) #puts the bar down\n",
    "plt.xticks(y_pos, xticks) # this puts the words down on the x axis instead of 0,1,2,3...\n",
    "plt.ylabel('Mass (g)') #gives the y axis a label\n",
    "plt.title('Average Mammal Mass per Continent') #gives a title for the visualization\n",
    " \n",
    "plt.show()\n",
    "### END SOLUTION"
   ]
  },
  {
   "cell_type": "code",
   "execution_count": null,
   "metadata": {
    "collapsed": true
   },
   "outputs": [],
   "source": []
  }
 ],
 "metadata": {
  "celltoolbar": "Create Assignment",
  "kernelspec": {
   "display_name": "Python 3",
   "language": "python",
   "name": "python3"
  },
  "language_info": {
   "codemirror_mode": {
    "name": "ipython",
    "version": 3
   },
   "file_extension": ".py",
   "mimetype": "text/x-python",
   "name": "python",
   "nbconvert_exporter": "python",
   "pygments_lexer": "ipython3",
   "version": "3.6.1"
  }
 },
 "nbformat": 4,
 "nbformat_minor": 2
}
