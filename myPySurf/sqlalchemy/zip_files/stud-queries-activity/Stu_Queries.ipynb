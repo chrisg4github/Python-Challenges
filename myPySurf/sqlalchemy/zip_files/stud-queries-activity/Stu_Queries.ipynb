{
 "cells": [
  {
   "cell_type": "code",
   "execution_count": null,
   "metadata": {
    "collapsed": true,
    "nbgrader": {
     "grade": false,
     "grade_id": "cell-a2ddf41f9b38feb9",
     "locked": true,
     "schema_version": 1,
     "solution": false
    }
   },
   "outputs": [],
   "source": [
    "# Python SQL toolkit and Object Relational Mapper\n",
    "import sqlalchemy\n",
    "from sqlalchemy.ext.automap import automap_base\n",
    "from sqlalchemy.orm import Session\n",
    "from sqlalchemy import create_engine"
   ]
  },
  {
   "cell_type": "code",
   "execution_count": null,
   "metadata": {
    "collapsed": true,
    "nbgrader": {
     "grade": false,
     "grade_id": "cell-0f6c76550876c0d9",
     "locked": true,
     "schema_version": 1,
     "solution": false
    }
   },
   "outputs": [],
   "source": [
    "engine = create_engine(\"sqlite:///mammals.sqlite\", echo=False)"
   ]
  },
  {
   "cell_type": "code",
   "execution_count": null,
   "metadata": {
    "collapsed": true,
    "nbgrader": {
     "grade": false,
     "grade_id": "cell-329bbc66e6d61fb6",
     "locked": false,
     "schema_version": 1,
     "solution": true
    }
   },
   "outputs": [],
   "source": [
    "# Declare a Base using `automap_base()`\n",
    "### BEGIN SOLUTION\n",
    "Base = automap_base()\n",
    "### END SOLUTION"
   ]
  },
  {
   "cell_type": "code",
   "execution_count": null,
   "metadata": {
    "collapsed": true,
    "nbgrader": {
     "grade": false,
     "grade_id": "cell-4fc29479ab1228ad",
     "locked": false,
     "schema_version": 1,
     "solution": true
    }
   },
   "outputs": [],
   "source": [
    "# Use the Base class to reflect the database tables\n",
    "### BEGIN SOLUTION\n",
    "Base.prepare(engine, reflect=True)\n",
    "### END SOLUTION"
   ]
  },
  {
   "cell_type": "code",
   "execution_count": null,
   "metadata": {
    "collapsed": true,
    "nbgrader": {
     "grade": false,
     "grade_id": "cell-1ee7ca1c28222488",
     "locked": false,
     "schema_version": 1,
     "solution": true
    }
   },
   "outputs": [],
   "source": [
    "# Print all of the classes mapped to the Base\n",
    "### BEGIN SOLUTION\n",
    "Base.classes.keys()\n",
    "### END SOLUTION"
   ]
  },
  {
   "cell_type": "code",
   "execution_count": null,
   "metadata": {
    "collapsed": true,
    "nbgrader": {
     "grade": false,
     "grade_id": "cell-22440eb5a4b1d100",
     "locked": false,
     "schema_version": 1,
     "solution": true
    }
   },
   "outputs": [],
   "source": [
    "# save the class as a variable called `MammalMasses`\n",
    "### BEGIN SOLUTION\n",
    "MammalMasses = Base.classes.mammal_masses_MammalMasses\n",
    "### END SOLUTION"
   ]
  },
  {
   "cell_type": "code",
   "execution_count": null,
   "metadata": {
    "collapsed": true,
    "nbgrader": {
     "grade": false,
     "grade_id": "cell-ef1ac7e18785f6bb",
     "locked": false,
     "schema_version": 1,
     "solution": true
    }
   },
   "outputs": [],
   "source": [
    "# Create a session\n",
    "### BEGIN SOLUTION\n",
    "session = Session(engine)\n",
    "### END SOLUTION"
   ]
  },
  {
   "cell_type": "code",
   "execution_count": null,
   "metadata": {
    "collapsed": true,
    "nbgrader": {
     "grade": false,
     "grade_id": "cell-0390d36dad267054",
     "locked": false,
     "schema_version": 1,
     "solution": true
    }
   },
   "outputs": [],
   "source": [
    "# Use a session query to find the first row in the database\n",
    "# Use `__dict__` to see the keys and values\n",
    "### BEGIN SOLUTION\n",
    "first_mammal = session.query(MammalMasses).first()\n",
    "first_mammal.__dict__\n",
    "### END SOLUTION"
   ]
  },
  {
   "cell_type": "code",
   "execution_count": null,
   "metadata": {
    "collapsed": true,
    "nbgrader": {
     "grade": false,
     "grade_id": "cell-4551a82d0196283a",
     "locked": false,
     "schema_version": 1,
     "solution": true
    }
   },
   "outputs": [],
   "source": [
    "# Apply a filter to select only the mammals with a status of existing (extant)\n",
    "# Print `species`, `status`, and `comb_mass_g` for the first existing mammal in the database\n",
    "### BEGIN SOLUTION\n",
    "first_extant = session.query(MammalMasses.species, MammalMasses.status, MammalMasses.comb_mass_g).\\\n",
    "    filter(MammalMasses.status == 'extant').\\\n",
    "    first()\n",
    "print(first_extant)\n",
    "### END SOLUTION"
   ]
  },
  {
   "cell_type": "code",
   "execution_count": null,
   "metadata": {
    "collapsed": true,
    "nbgrader": {
     "grade": false,
     "grade_id": "cell-7e820a477a7a2b7d",
     "locked": false,
     "schema_version": 1,
     "solution": true
    }
   },
   "outputs": [],
   "source": [
    "# Print the `species`, `status`, and `comb_mass_g` of the largest extant mammal and the largest extinct mammal\n",
    "### BEGIN SOLUTION\n",
    "largest_extant = session.query(MammalMasses).\\\n",
    "    filter(MammalMasses.status == 'extant').\\\n",
    "    order_by(MammalMasses.comb_mass_g.desc()).\\\n",
    "    first()\n",
    "largest_extinct = session.query(MammalMasses).\\\n",
    "    filter(MammalMasses.status == 'extinct').\\\n",
    "    order_by(MammalMasses.comb_mass_g.desc()).\\\n",
    "    first()\n",
    "print(\"Largest Extant: {family} {genus} {species}, Mass: {comb_mass_g}\".format(**largest_extant.__dict__))\n",
    "print(\"Largest Extinct: {family} {genus} {species}, Mass: {comb_mass_g}\".format(**largest_extinct.__dict__))\n",
    "### END SOLUTION"
   ]
  }
 ],
 "metadata": {
  "anaconda-cloud": {},
  "celltoolbar": "Create Assignment",
  "kernelspec": {
   "display_name": "Python 3",
   "language": "python",
   "name": "python3"
  },
  "language_info": {
   "codemirror_mode": {
    "name": "ipython",
    "version": 3
   },
   "file_extension": ".py",
   "mimetype": "text/x-python",
   "name": "python",
   "nbconvert_exporter": "python",
   "pygments_lexer": "ipython3",
   "version": "3.6.1"
  }
 },
 "nbformat": 4,
 "nbformat_minor": 2
}
