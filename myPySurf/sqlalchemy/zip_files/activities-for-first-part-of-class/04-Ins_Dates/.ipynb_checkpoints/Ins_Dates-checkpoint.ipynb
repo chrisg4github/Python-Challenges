{
 "cells": [
  {
   "cell_type": "markdown",
   "metadata": {
    "slideshow": {
     "slide_type": "slide"
    }
   },
   "source": [
    "# SQLAlchemy, Sqlite, and Dates"
   ]
  },
  {
   "cell_type": "markdown",
   "metadata": {
    "slideshow": {
     "slide_type": "slide"
    }
   },
   "source": [
    "## Setup"
   ]
  },
  {
   "cell_type": "code",
   "execution_count": 1,
   "metadata": {
    "collapsed": true,
    "slideshow": {
     "slide_type": "subslide"
    }
   },
   "outputs": [],
   "source": [
    "# Python SQL toolkit and Object Relational Mapper\n",
    "import sqlalchemy\n",
    "from sqlalchemy.ext.automap import automap_base\n",
    "from sqlalchemy.orm import Session\n",
    "from sqlalchemy import create_engine, inspect, func"
   ]
  },
  {
   "cell_type": "code",
   "execution_count": 2,
   "metadata": {
    "collapsed": true,
    "slideshow": {
     "slide_type": "subslide"
    }
   },
   "outputs": [],
   "source": [
    "engine = create_engine(\"sqlite:///dow.sqlite\", echo=False)"
   ]
  },
  {
   "cell_type": "markdown",
   "metadata": {
    "slideshow": {
     "slide_type": "slide"
    }
   },
   "source": [
    "## Explore Database"
   ]
  },
  {
   "cell_type": "code",
   "execution_count": 3,
   "metadata": {
    "collapsed": false,
    "slideshow": {
     "slide_type": "subslide"
    }
   },
   "outputs": [
    {
     "data": {
      "text/plain": [
       "['dow']"
      ]
     },
     "execution_count": 3,
     "metadata": {},
     "output_type": "execute_result"
    }
   ],
   "source": [
    "inspector = inspect(engine)\n",
    "inspector.get_table_names()"
   ]
  },
  {
   "cell_type": "code",
   "execution_count": 4,
   "metadata": {
    "collapsed": false,
    "slideshow": {
     "slide_type": "subslide"
    }
   },
   "outputs": [
    {
     "name": "stdout",
     "output_type": "stream",
     "text": [
      "id INTEGER\n",
      "quarter INTEGER\n",
      "stock TEXT\n",
      "date TEXT\n",
      "open_price FLOAT\n",
      "high_price FLOAT\n",
      "low_price FLOAT\n",
      "close_price FLOAT\n",
      "volume INTEGER\n",
      "percent_change FLOAT\n"
     ]
    }
   ],
   "source": [
    "# Get a list of column names and types\n",
    "columns = inspector.get_columns('dow')\n",
    "for c in columns:\n",
    "    print(c['name'], c[\"type\"])\n",
    "# columns\n",
    "\n",
    "# interestingly enough sqlite3 doesn't have a date column type, so you just use TEXT instead\n",
    "\n",
    "# check it out: https://sqlite.org/datatype3.html"
   ]
  },
  {
   "cell_type": "code",
   "execution_count": 5,
   "metadata": {
    "collapsed": false,
    "slideshow": {
     "slide_type": "subslide"
    }
   },
   "outputs": [
    {
     "data": {
      "text/plain": [
       "[(1, 1, 'AA', '2011-01-07', 15.82, 16.72, 15.78, 16.42, 239655616, None),\n",
       " (2, 1, 'AA', '2011-01-14', 16.71, 16.71, 15.64, 15.97, 242963398, None),\n",
       " (3, 1, 'AA', '2011-01-21', 16.19, 16.38, 15.6, 15.79, 138428495, None),\n",
       " (4, 1, 'AA', '2011-01-28', 15.87, 16.63, 15.82, 16.13, 151379173, None),\n",
       " (5, 1, 'AA', '2011-02-04', 16.18, 17.39, 16.18, 17.14, 154387761, None)]"
      ]
     },
     "execution_count": 5,
     "metadata": {},
     "output_type": "execute_result"
    }
   ],
   "source": [
    "engine.execute('SELECT * FROM dow LIMIT 5').fetchall()"
   ]
  },
  {
   "cell_type": "markdown",
   "metadata": {
    "slideshow": {
     "slide_type": "slide"
    }
   },
   "source": [
    "## Reflect and query dates"
   ]
  },
  {
   "cell_type": "code",
   "execution_count": 6,
   "metadata": {
    "collapsed": true,
    "slideshow": {
     "slide_type": "subslide"
    }
   },
   "outputs": [],
   "source": [
    "# Reflect Database into ORM class\n",
    "Base = automap_base()\n",
    "Base.prepare(engine, reflect=True)\n",
    "Dow = Base.classes.dow"
   ]
  },
  {
   "cell_type": "code",
   "execution_count": 7,
   "metadata": {
    "collapsed": true,
    "slideshow": {
     "slide_type": "fragment"
    }
   },
   "outputs": [],
   "source": [
    "session = Session(engine)"
   ]
  },
  {
   "cell_type": "markdown",
   "metadata": {
    "slideshow": {
     "slide_type": "subslide"
    }
   },
   "source": [
    "How many dates do we have?"
   ]
  },
  {
   "cell_type": "code",
   "execution_count": 8,
   "metadata": {
    "collapsed": false,
    "slideshow": {
     "slide_type": "fragment"
    }
   },
   "outputs": [
    {
     "data": {
      "text/plain": [
       "[(750)]"
      ]
     },
     "execution_count": 8,
     "metadata": {},
     "output_type": "execute_result"
    }
   ],
   "source": [
    "# Total dates\n",
    "session.query(func.count(Dow.date)).all()"
   ]
  },
  {
   "cell_type": "markdown",
   "metadata": {
    "slideshow": {
     "slide_type": "subslide"
    }
   },
   "source": [
    "What is the earliest date?"
   ]
  },
  {
   "cell_type": "code",
   "execution_count": 9,
   "metadata": {
    "collapsed": false,
    "slideshow": {
     "slide_type": "fragment"
    }
   },
   "outputs": [
    {
     "data": {
      "text/plain": [
       "('2011-01-07')"
      ]
     },
     "execution_count": 9,
     "metadata": {},
     "output_type": "execute_result"
    }
   ],
   "source": [
    "# Earliest Date\n",
    "session.query(Dow.date).order_by(Dow.date).first()"
   ]
  },
  {
   "cell_type": "markdown",
   "metadata": {
    "slideshow": {
     "slide_type": "subslide"
    }
   },
   "source": [
    "What is the latest date?"
   ]
  },
  {
   "cell_type": "code",
   "execution_count": 10,
   "metadata": {
    "collapsed": false,
    "slideshow": {
     "slide_type": "fragment"
    }
   },
   "outputs": [
    {
     "data": {
      "text/plain": [
       "('2011-06-24')"
      ]
     },
     "execution_count": 10,
     "metadata": {},
     "output_type": "execute_result"
    }
   ],
   "source": [
    "# Latest Date\n",
    "session.query(Dow.date).order_by(Dow.date.desc()).first()"
   ]
  },
  {
   "cell_type": "markdown",
   "metadata": {
    "slideshow": {
     "slide_type": "subslide"
    }
   },
   "source": [
    "Find all of the dates great than `2011-03-01`"
   ]
  },
  {
   "cell_type": "code",
   "execution_count": 11,
   "metadata": {
    "collapsed": false,
    "slideshow": {
     "slide_type": "fragment"
    }
   },
   "outputs": [
    {
     "data": {
      "text/plain": [
       "[('2011-03-04'),\n",
       " ('2011-03-04'),\n",
       " ('2011-03-04'),\n",
       " ('2011-03-04'),\n",
       " ('2011-03-04'),\n",
       " ('2011-03-04'),\n",
       " ('2011-03-04'),\n",
       " ('2011-03-04'),\n",
       " ('2011-03-04'),\n",
       " ('2011-03-04'),\n",
       " ('2011-03-04'),\n",
       " ('2011-03-04'),\n",
       " ('2011-03-04'),\n",
       " ('2011-03-04'),\n",
       " ('2011-03-04'),\n",
       " ('2011-03-04'),\n",
       " ('2011-03-04'),\n",
       " ('2011-03-04'),\n",
       " ('2011-03-04'),\n",
       " ('2011-03-04'),\n",
       " ('2011-03-04'),\n",
       " ('2011-03-04'),\n",
       " ('2011-03-04'),\n",
       " ('2011-03-04'),\n",
       " ('2011-03-04'),\n",
       " ('2011-03-04'),\n",
       " ('2011-03-04'),\n",
       " ('2011-03-04'),\n",
       " ('2011-03-04'),\n",
       " ('2011-03-04'),\n",
       " ('2011-03-11'),\n",
       " ('2011-03-11'),\n",
       " ('2011-03-11'),\n",
       " ('2011-03-11'),\n",
       " ('2011-03-11'),\n",
       " ('2011-03-11'),\n",
       " ('2011-03-11'),\n",
       " ('2011-03-11'),\n",
       " ('2011-03-11'),\n",
       " ('2011-03-11'),\n",
       " ('2011-03-11'),\n",
       " ('2011-03-11'),\n",
       " ('2011-03-11'),\n",
       " ('2011-03-11'),\n",
       " ('2011-03-11'),\n",
       " ('2011-03-11'),\n",
       " ('2011-03-11'),\n",
       " ('2011-03-11'),\n",
       " ('2011-03-11'),\n",
       " ('2011-03-11'),\n",
       " ('2011-03-11'),\n",
       " ('2011-03-11'),\n",
       " ('2011-03-11'),\n",
       " ('2011-03-11'),\n",
       " ('2011-03-11'),\n",
       " ('2011-03-11'),\n",
       " ('2011-03-11'),\n",
       " ('2011-03-11'),\n",
       " ('2011-03-11'),\n",
       " ('2011-03-11'),\n",
       " ('2011-03-18'),\n",
       " ('2011-03-18'),\n",
       " ('2011-03-18'),\n",
       " ('2011-03-18'),\n",
       " ('2011-03-18'),\n",
       " ('2011-03-18'),\n",
       " ('2011-03-18'),\n",
       " ('2011-03-18'),\n",
       " ('2011-03-18'),\n",
       " ('2011-03-18'),\n",
       " ('2011-03-18'),\n",
       " ('2011-03-18'),\n",
       " ('2011-03-18'),\n",
       " ('2011-03-18'),\n",
       " ('2011-03-18'),\n",
       " ('2011-03-18'),\n",
       " ('2011-03-18'),\n",
       " ('2011-03-18'),\n",
       " ('2011-03-18'),\n",
       " ('2011-03-18'),\n",
       " ('2011-03-18'),\n",
       " ('2011-03-18'),\n",
       " ('2011-03-18'),\n",
       " ('2011-03-18'),\n",
       " ('2011-03-18'),\n",
       " ('2011-03-18'),\n",
       " ('2011-03-18'),\n",
       " ('2011-03-18'),\n",
       " ('2011-03-18'),\n",
       " ('2011-03-18'),\n",
       " ('2011-03-25'),\n",
       " ('2011-03-25'),\n",
       " ('2011-03-25'),\n",
       " ('2011-03-25'),\n",
       " ('2011-03-25'),\n",
       " ('2011-03-25'),\n",
       " ('2011-03-25'),\n",
       " ('2011-03-25'),\n",
       " ('2011-03-25'),\n",
       " ('2011-03-25'),\n",
       " ('2011-03-25'),\n",
       " ('2011-03-25'),\n",
       " ('2011-03-25'),\n",
       " ('2011-03-25'),\n",
       " ('2011-03-25'),\n",
       " ('2011-03-25'),\n",
       " ('2011-03-25'),\n",
       " ('2011-03-25'),\n",
       " ('2011-03-25'),\n",
       " ('2011-03-25'),\n",
       " ('2011-03-25'),\n",
       " ('2011-03-25'),\n",
       " ('2011-03-25'),\n",
       " ('2011-03-25'),\n",
       " ('2011-03-25'),\n",
       " ('2011-03-25'),\n",
       " ('2011-03-25'),\n",
       " ('2011-03-25'),\n",
       " ('2011-03-25'),\n",
       " ('2011-03-25'),\n",
       " ('2011-04-01'),\n",
       " ('2011-04-01'),\n",
       " ('2011-04-01'),\n",
       " ('2011-04-01'),\n",
       " ('2011-04-01'),\n",
       " ('2011-04-01'),\n",
       " ('2011-04-01'),\n",
       " ('2011-04-01'),\n",
       " ('2011-04-01'),\n",
       " ('2011-04-01'),\n",
       " ('2011-04-01'),\n",
       " ('2011-04-01'),\n",
       " ('2011-04-01'),\n",
       " ('2011-04-01'),\n",
       " ('2011-04-01'),\n",
       " ('2011-04-01'),\n",
       " ('2011-04-01'),\n",
       " ('2011-04-01'),\n",
       " ('2011-04-01'),\n",
       " ('2011-04-01'),\n",
       " ('2011-04-01'),\n",
       " ('2011-04-01'),\n",
       " ('2011-04-01'),\n",
       " ('2011-04-01'),\n",
       " ('2011-04-01'),\n",
       " ('2011-04-01'),\n",
       " ('2011-04-01'),\n",
       " ('2011-04-01'),\n",
       " ('2011-04-01'),\n",
       " ('2011-04-01'),\n",
       " ('2011-04-08'),\n",
       " ('2011-04-08'),\n",
       " ('2011-04-08'),\n",
       " ('2011-04-08'),\n",
       " ('2011-04-08'),\n",
       " ('2011-04-08'),\n",
       " ('2011-04-08'),\n",
       " ('2011-04-08'),\n",
       " ('2011-04-08'),\n",
       " ('2011-04-08'),\n",
       " ('2011-04-08'),\n",
       " ('2011-04-08'),\n",
       " ('2011-04-08'),\n",
       " ('2011-04-08'),\n",
       " ('2011-04-08'),\n",
       " ('2011-04-08'),\n",
       " ('2011-04-08'),\n",
       " ('2011-04-08'),\n",
       " ('2011-04-08'),\n",
       " ('2011-04-08'),\n",
       " ('2011-04-08'),\n",
       " ('2011-04-08'),\n",
       " ('2011-04-08'),\n",
       " ('2011-04-08'),\n",
       " ('2011-04-08'),\n",
       " ('2011-04-08'),\n",
       " ('2011-04-08'),\n",
       " ('2011-04-08'),\n",
       " ('2011-04-08'),\n",
       " ('2011-04-08'),\n",
       " ('2011-04-15'),\n",
       " ('2011-04-15'),\n",
       " ('2011-04-15'),\n",
       " ('2011-04-15'),\n",
       " ('2011-04-15'),\n",
       " ('2011-04-15'),\n",
       " ('2011-04-15'),\n",
       " ('2011-04-15'),\n",
       " ('2011-04-15'),\n",
       " ('2011-04-15'),\n",
       " ('2011-04-15'),\n",
       " ('2011-04-15'),\n",
       " ('2011-04-15'),\n",
       " ('2011-04-15'),\n",
       " ('2011-04-15'),\n",
       " ('2011-04-15'),\n",
       " ('2011-04-15'),\n",
       " ('2011-04-15'),\n",
       " ('2011-04-15'),\n",
       " ('2011-04-15'),\n",
       " ('2011-04-15'),\n",
       " ('2011-04-15'),\n",
       " ('2011-04-15'),\n",
       " ('2011-04-15'),\n",
       " ('2011-04-15'),\n",
       " ('2011-04-15'),\n",
       " ('2011-04-15'),\n",
       " ('2011-04-15'),\n",
       " ('2011-04-15'),\n",
       " ('2011-04-15'),\n",
       " ('2011-04-21'),\n",
       " ('2011-04-21'),\n",
       " ('2011-04-21'),\n",
       " ('2011-04-21'),\n",
       " ('2011-04-21'),\n",
       " ('2011-04-21'),\n",
       " ('2011-04-21'),\n",
       " ('2011-04-21'),\n",
       " ('2011-04-21'),\n",
       " ('2011-04-21'),\n",
       " ('2011-04-21'),\n",
       " ('2011-04-21'),\n",
       " ('2011-04-21'),\n",
       " ('2011-04-21'),\n",
       " ('2011-04-21'),\n",
       " ('2011-04-21'),\n",
       " ('2011-04-21'),\n",
       " ('2011-04-21'),\n",
       " ('2011-04-21'),\n",
       " ('2011-04-21'),\n",
       " ('2011-04-21'),\n",
       " ('2011-04-21'),\n",
       " ('2011-04-21'),\n",
       " ('2011-04-21'),\n",
       " ('2011-04-21'),\n",
       " ('2011-04-21'),\n",
       " ('2011-04-21'),\n",
       " ('2011-04-21'),\n",
       " ('2011-04-21'),\n",
       " ('2011-04-21'),\n",
       " ('2011-04-29'),\n",
       " ('2011-04-29'),\n",
       " ('2011-04-29'),\n",
       " ('2011-04-29'),\n",
       " ('2011-04-29'),\n",
       " ('2011-04-29'),\n",
       " ('2011-04-29'),\n",
       " ('2011-04-29'),\n",
       " ('2011-04-29'),\n",
       " ('2011-04-29'),\n",
       " ('2011-04-29'),\n",
       " ('2011-04-29'),\n",
       " ('2011-04-29'),\n",
       " ('2011-04-29'),\n",
       " ('2011-04-29'),\n",
       " ('2011-04-29'),\n",
       " ('2011-04-29'),\n",
       " ('2011-04-29'),\n",
       " ('2011-04-29'),\n",
       " ('2011-04-29'),\n",
       " ('2011-04-29'),\n",
       " ('2011-04-29'),\n",
       " ('2011-04-29'),\n",
       " ('2011-04-29'),\n",
       " ('2011-04-29'),\n",
       " ('2011-04-29'),\n",
       " ('2011-04-29'),\n",
       " ('2011-04-29'),\n",
       " ('2011-04-29'),\n",
       " ('2011-04-29'),\n",
       " ('2011-05-06'),\n",
       " ('2011-05-06'),\n",
       " ('2011-05-06'),\n",
       " ('2011-05-06'),\n",
       " ('2011-05-06'),\n",
       " ('2011-05-06'),\n",
       " ('2011-05-06'),\n",
       " ('2011-05-06'),\n",
       " ('2011-05-06'),\n",
       " ('2011-05-06'),\n",
       " ('2011-05-06'),\n",
       " ('2011-05-06'),\n",
       " ('2011-05-06'),\n",
       " ('2011-05-06'),\n",
       " ('2011-05-06'),\n",
       " ('2011-05-06'),\n",
       " ('2011-05-06'),\n",
       " ('2011-05-06'),\n",
       " ('2011-05-06'),\n",
       " ('2011-05-06'),\n",
       " ('2011-05-06'),\n",
       " ('2011-05-06'),\n",
       " ('2011-05-06'),\n",
       " ('2011-05-06'),\n",
       " ('2011-05-06'),\n",
       " ('2011-05-06'),\n",
       " ('2011-05-06'),\n",
       " ('2011-05-06'),\n",
       " ('2011-05-06'),\n",
       " ('2011-05-06'),\n",
       " ('2011-05-13'),\n",
       " ('2011-05-13'),\n",
       " ('2011-05-13'),\n",
       " ('2011-05-13'),\n",
       " ('2011-05-13'),\n",
       " ('2011-05-13'),\n",
       " ('2011-05-13'),\n",
       " ('2011-05-13'),\n",
       " ('2011-05-13'),\n",
       " ('2011-05-13'),\n",
       " ('2011-05-13'),\n",
       " ('2011-05-13'),\n",
       " ('2011-05-13'),\n",
       " ('2011-05-13'),\n",
       " ('2011-05-13'),\n",
       " ('2011-05-13'),\n",
       " ('2011-05-13'),\n",
       " ('2011-05-13'),\n",
       " ('2011-05-13'),\n",
       " ('2011-05-13'),\n",
       " ('2011-05-13'),\n",
       " ('2011-05-13'),\n",
       " ('2011-05-13'),\n",
       " ('2011-05-13'),\n",
       " ('2011-05-13'),\n",
       " ('2011-05-13'),\n",
       " ('2011-05-13'),\n",
       " ('2011-05-13'),\n",
       " ('2011-05-13'),\n",
       " ('2011-05-13'),\n",
       " ('2011-05-20'),\n",
       " ('2011-05-20'),\n",
       " ('2011-05-20'),\n",
       " ('2011-05-20'),\n",
       " ('2011-05-20'),\n",
       " ('2011-05-20'),\n",
       " ('2011-05-20'),\n",
       " ('2011-05-20'),\n",
       " ('2011-05-20'),\n",
       " ('2011-05-20'),\n",
       " ('2011-05-20'),\n",
       " ('2011-05-20'),\n",
       " ('2011-05-20'),\n",
       " ('2011-05-20'),\n",
       " ('2011-05-20'),\n",
       " ('2011-05-20'),\n",
       " ('2011-05-20'),\n",
       " ('2011-05-20'),\n",
       " ('2011-05-20'),\n",
       " ('2011-05-20'),\n",
       " ('2011-05-20'),\n",
       " ('2011-05-20'),\n",
       " ('2011-05-20'),\n",
       " ('2011-05-20'),\n",
       " ('2011-05-20'),\n",
       " ('2011-05-20'),\n",
       " ('2011-05-20'),\n",
       " ('2011-05-20'),\n",
       " ('2011-05-20'),\n",
       " ('2011-05-20'),\n",
       " ('2011-05-27'),\n",
       " ('2011-05-27'),\n",
       " ('2011-05-27'),\n",
       " ('2011-05-27'),\n",
       " ('2011-05-27'),\n",
       " ('2011-05-27'),\n",
       " ('2011-05-27'),\n",
       " ('2011-05-27'),\n",
       " ('2011-05-27'),\n",
       " ('2011-05-27'),\n",
       " ('2011-05-27'),\n",
       " ('2011-05-27'),\n",
       " ('2011-05-27'),\n",
       " ('2011-05-27'),\n",
       " ('2011-05-27'),\n",
       " ('2011-05-27'),\n",
       " ('2011-05-27'),\n",
       " ('2011-05-27'),\n",
       " ('2011-05-27'),\n",
       " ('2011-05-27'),\n",
       " ('2011-05-27'),\n",
       " ('2011-05-27'),\n",
       " ('2011-05-27'),\n",
       " ('2011-05-27'),\n",
       " ('2011-05-27'),\n",
       " ('2011-05-27'),\n",
       " ('2011-05-27'),\n",
       " ('2011-05-27'),\n",
       " ('2011-05-27'),\n",
       " ('2011-05-27'),\n",
       " ('2011-06-03'),\n",
       " ('2011-06-03'),\n",
       " ('2011-06-03'),\n",
       " ('2011-06-03'),\n",
       " ('2011-06-03'),\n",
       " ('2011-06-03'),\n",
       " ('2011-06-03'),\n",
       " ('2011-06-03'),\n",
       " ('2011-06-03'),\n",
       " ('2011-06-03'),\n",
       " ('2011-06-03'),\n",
       " ('2011-06-03'),\n",
       " ('2011-06-03'),\n",
       " ('2011-06-03'),\n",
       " ('2011-06-03'),\n",
       " ('2011-06-03'),\n",
       " ('2011-06-03'),\n",
       " ('2011-06-03'),\n",
       " ('2011-06-03'),\n",
       " ('2011-06-03'),\n",
       " ('2011-06-03'),\n",
       " ('2011-06-03'),\n",
       " ('2011-06-03'),\n",
       " ('2011-06-03'),\n",
       " ('2011-06-03'),\n",
       " ('2011-06-03'),\n",
       " ('2011-06-03'),\n",
       " ('2011-06-03'),\n",
       " ('2011-06-03'),\n",
       " ('2011-06-03'),\n",
       " ('2011-06-10'),\n",
       " ('2011-06-10'),\n",
       " ('2011-06-10'),\n",
       " ('2011-06-10'),\n",
       " ('2011-06-10'),\n",
       " ('2011-06-10'),\n",
       " ('2011-06-10'),\n",
       " ('2011-06-10'),\n",
       " ('2011-06-10'),\n",
       " ('2011-06-10'),\n",
       " ('2011-06-10'),\n",
       " ('2011-06-10'),\n",
       " ('2011-06-10'),\n",
       " ('2011-06-10'),\n",
       " ('2011-06-10'),\n",
       " ('2011-06-10'),\n",
       " ('2011-06-10'),\n",
       " ('2011-06-10'),\n",
       " ('2011-06-10'),\n",
       " ('2011-06-10'),\n",
       " ('2011-06-10'),\n",
       " ('2011-06-10'),\n",
       " ('2011-06-10'),\n",
       " ('2011-06-10'),\n",
       " ('2011-06-10'),\n",
       " ('2011-06-10'),\n",
       " ('2011-06-10'),\n",
       " ('2011-06-10'),\n",
       " ('2011-06-10'),\n",
       " ('2011-06-10'),\n",
       " ('2011-06-17'),\n",
       " ('2011-06-17'),\n",
       " ('2011-06-17'),\n",
       " ('2011-06-17'),\n",
       " ('2011-06-17'),\n",
       " ('2011-06-17'),\n",
       " ('2011-06-17'),\n",
       " ('2011-06-17'),\n",
       " ('2011-06-17'),\n",
       " ('2011-06-17'),\n",
       " ('2011-06-17'),\n",
       " ('2011-06-17'),\n",
       " ('2011-06-17'),\n",
       " ('2011-06-17'),\n",
       " ('2011-06-17'),\n",
       " ('2011-06-17'),\n",
       " ('2011-06-17'),\n",
       " ('2011-06-17'),\n",
       " ('2011-06-17'),\n",
       " ('2011-06-17'),\n",
       " ('2011-06-17'),\n",
       " ('2011-06-17'),\n",
       " ('2011-06-17'),\n",
       " ('2011-06-17'),\n",
       " ('2011-06-17'),\n",
       " ('2011-06-17'),\n",
       " ('2011-06-17'),\n",
       " ('2011-06-17'),\n",
       " ('2011-06-17'),\n",
       " ('2011-06-17'),\n",
       " ('2011-06-24'),\n",
       " ('2011-06-24'),\n",
       " ('2011-06-24'),\n",
       " ('2011-06-24'),\n",
       " ('2011-06-24'),\n",
       " ('2011-06-24'),\n",
       " ('2011-06-24'),\n",
       " ('2011-06-24'),\n",
       " ('2011-06-24'),\n",
       " ('2011-06-24'),\n",
       " ('2011-06-24'),\n",
       " ('2011-06-24'),\n",
       " ('2011-06-24'),\n",
       " ('2011-06-24'),\n",
       " ('2011-06-24'),\n",
       " ('2011-06-24'),\n",
       " ('2011-06-24'),\n",
       " ('2011-06-24'),\n",
       " ('2011-06-24'),\n",
       " ('2011-06-24'),\n",
       " ('2011-06-24'),\n",
       " ('2011-06-24'),\n",
       " ('2011-06-24'),\n",
       " ('2011-06-24'),\n",
       " ('2011-06-24'),\n",
       " ('2011-06-24'),\n",
       " ('2011-06-24'),\n",
       " ('2011-06-24'),\n",
       " ('2011-06-24'),\n",
       " ('2011-06-24')]"
      ]
     },
     "execution_count": 11,
     "metadata": {},
     "output_type": "execute_result"
    }
   ],
   "source": [
    "session.query(Dow.date).filter(Dow.date > '2011-03-01').order_by(Dow.date).all()"
   ]
  },
  {
   "cell_type": "markdown",
   "metadata": {
    "slideshow": {
     "slide_type": "subslide"
    }
   },
   "source": [
    "## Important Note! Sqlite does not support a date column type, but SQLAlchemy will allow you to work with dates in the iso format. [sqlite dates](http://docs.sqlalchemy.org/en/latest/dialects/sqlite.html)"
   ]
  },
  {
   "cell_type": "markdown",
   "metadata": {
    "slideshow": {
     "slide_type": "slide"
    }
   },
   "source": [
    "# Quick Review of DateTime"
   ]
  },
  {
   "cell_type": "code",
   "execution_count": 12,
   "metadata": {
    "collapsed": true,
    "slideshow": {
     "slide_type": "subslide"
    }
   },
   "outputs": [],
   "source": [
    "import datetime as dt"
   ]
  },
  {
   "cell_type": "code",
   "execution_count": 13,
   "metadata": {
    "collapsed": false,
    "slideshow": {
     "slide_type": "fragment"
    }
   },
   "outputs": [
    {
     "name": "stdout",
     "output_type": "stream",
     "text": [
      "2017-09-30\n",
      "2017-01-31\n"
     ]
    }
   ],
   "source": [
    "# Print a date object and a datetime object \n",
    "print(dt.date.today())\n",
    "print(dt.date(2017, 1 ,31))"
   ]
  },
  {
   "cell_type": "code",
   "execution_count": 14,
   "metadata": {
    "collapsed": false,
    "slideshow": {
     "slide_type": "fragment"
    }
   },
   "outputs": [
    {
     "name": "stdout",
     "output_type": "stream",
     "text": [
      "2017-09-30 12:16:02.150777\n",
      "2017-01-31 00:00:00\n"
     ]
    }
   ],
   "source": [
    "print(dt.datetime.utcnow())\n",
    "print(dt.datetime(2017, 1, 31))"
   ]
  },
  {
   "cell_type": "markdown",
   "metadata": {
    "slideshow": {
     "slide_type": "subslide"
    }
   },
   "source": [
    "Calculate a time delta"
   ]
  },
  {
   "cell_type": "code",
   "execution_count": 19,
   "metadata": {
    "collapsed": true,
    "slideshow": {
     "slide_type": "fragment"
    }
   },
   "outputs": [],
   "source": [
    "# date 1 week ago from today\n",
    "week_ago = dt.date.today() - dt.timedelta(days=7)"
   ]
  },
  {
   "cell_type": "code",
   "execution_count": 20,
   "metadata": {
    "collapsed": false
   },
   "outputs": [
    {
     "data": {
      "text/plain": [
       "datetime.date(2017, 9, 23)"
      ]
     },
     "execution_count": 20,
     "metadata": {},
     "output_type": "execute_result"
    }
   ],
   "source": [
    "week_ago"
   ]
  },
  {
   "cell_type": "markdown",
   "metadata": {
    "slideshow": {
     "slide_type": "subslide"
    }
   },
   "source": [
    "Query for the Dow closing price 1 week before `2011-04-08` using the datetime library"
   ]
  },
  {
   "cell_type": "code",
   "execution_count": 24,
   "metadata": {
    "collapsed": false,
    "slideshow": {
     "slide_type": "fragment"
    }
   },
   "outputs": [
    {
     "data": {
      "text/plain": [
       "(17.04)"
      ]
     },
     "execution_count": 24,
     "metadata": {},
     "output_type": "execute_result"
    }
   ],
   "source": [
    "# Query for the Dow closing price for `CSCO` 1 week before `2011-04-08` using the datetime library\n",
    "query_date = dt.date(2011, 4, 8) - dt.timedelta(days=7)\n",
    "\n",
    "session.query(Dow.close_price)\\\n",
    ".filter(Dow.stock == 'CSCO')\\\n",
    ".filter(Dow.date == query_date).first()"
   ]
  },
  {
   "cell_type": "code",
   "execution_count": 17,
   "metadata": {
    "collapsed": false,
    "slideshow": {
     "slide_type": "subslide"
    }
   },
   "outputs": [
    {
     "data": {
      "text/plain": [
       "'30'"
      ]
     },
     "execution_count": 17,
     "metadata": {},
     "output_type": "execute_result"
    }
   ],
   "source": [
    "# Parse out just the day from the datetime object\n",
    "dt.date.today().strftime(\"%d\")\n",
    "\n",
    "# amazing resource:\n",
    "# http://www.foragoodstrftime.com/"
   ]
  },
  {
   "cell_type": "markdown",
   "metadata": {
    "slideshow": {
     "slide_type": "subslide"
    }
   },
   "source": [
    "Putting it all together"
   ]
  },
  {
   "cell_type": "code",
   "execution_count": 18,
   "metadata": {
    "collapsed": false,
    "slideshow": {
     "slide_type": "fragment"
    }
   },
   "outputs": [
    {
     "data": {
      "text/plain": [
       "[('2011-01-14'),\n",
       " ('2011-01-14'),\n",
       " ('2011-01-14'),\n",
       " ('2011-01-14'),\n",
       " ('2011-01-14'),\n",
       " ('2011-01-14'),\n",
       " ('2011-01-14'),\n",
       " ('2011-01-14'),\n",
       " ('2011-01-14'),\n",
       " ('2011-01-14'),\n",
       " ('2011-01-14'),\n",
       " ('2011-01-14'),\n",
       " ('2011-01-14'),\n",
       " ('2011-01-14'),\n",
       " ('2011-01-14'),\n",
       " ('2011-01-14'),\n",
       " ('2011-01-14'),\n",
       " ('2011-01-14'),\n",
       " ('2011-01-14'),\n",
       " ('2011-01-14'),\n",
       " ('2011-01-14'),\n",
       " ('2011-01-14'),\n",
       " ('2011-01-14'),\n",
       " ('2011-01-14'),\n",
       " ('2011-01-14'),\n",
       " ('2011-01-14'),\n",
       " ('2011-01-14'),\n",
       " ('2011-01-14'),\n",
       " ('2011-01-14'),\n",
       " ('2011-01-14')]"
      ]
     },
     "execution_count": 18,
     "metadata": {},
     "output_type": "execute_result"
    }
   ],
   "source": [
    "# Query for all dates matching the following date string in the format `%d`\n",
    "session.query(Dow.date).filter(func.strftime(\"%d\", Dow.date) == \"14\").all()"
   ]
  },
  {
   "cell_type": "markdown",
   "metadata": {
    "slideshow": {
     "slide_type": "subslide"
    }
   },
   "source": [
    "## Your Turn!"
   ]
  },
  {
   "cell_type": "markdown",
   "metadata": {
    "slideshow": {
     "slide_type": "notes"
    }
   },
   "source": [
    "DataSet Citation: \n",
    "\n",
    "Brown, M. S., Pelosi, M. & Dirska, H. (2013). Dynamic-radius Species-conserving Genetic Algorithm for \n",
    "the Financial Forecasting of Dow Jones Index Stocks. Machine Learning and Data Mining in Pattern \n",
    "Recognition, 7988, 27-41.\n"
   ]
  },
  {
   "cell_type": "code",
   "execution_count": null,
   "metadata": {
    "collapsed": true
   },
   "outputs": [],
   "source": []
  },
  {
   "cell_type": "code",
   "execution_count": null,
   "metadata": {
    "collapsed": true
   },
   "outputs": [],
   "source": []
  }
 ],
 "metadata": {
  "celltoolbar": "Slideshow",
  "kernelspec": {
   "display_name": "Python 3",
   "language": "python",
   "name": "python3"
  },
  "language_info": {
   "codemirror_mode": {
    "name": "ipython",
    "version": 3
   },
   "file_extension": ".py",
   "mimetype": "text/x-python",
   "name": "python",
   "nbconvert_exporter": "python",
   "pygments_lexer": "ipython3",
   "version": "3.6.1"
  }
 },
 "nbformat": 4,
 "nbformat_minor": 2
}
